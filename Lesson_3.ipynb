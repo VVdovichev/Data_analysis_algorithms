{
  "nbformat": 4,
  "nbformat_minor": 0,
  "metadata": {
    "colab": {
      "name": "Lesson_3.ipynb",
      "provenance": [],
      "collapsed_sections": [],
      "authorship_tag": "ABX9TyM6XbQiAYk4HZpeN4xF79eG",
      "include_colab_link": true
    },
    "kernelspec": {
      "name": "python3",
      "display_name": "Python 3"
    },
    "language_info": {
      "name": "python"
    }
  },
  "cells": [
    {
      "cell_type": "markdown",
      "metadata": {
        "id": "view-in-github",
        "colab_type": "text"
      },
      "source": [
        "<a href=\"https://colab.research.google.com/github/VVdovichev/Data_analysis_algorithms/blob/main/Lesson_3.ipynb\" target=\"_parent\"><img src=\"https://colab.research.google.com/assets/colab-badge.svg\" alt=\"Open In Colab\"/></a>"
      ]
    },
    {
      "cell_type": "code",
      "source": [
        "import numpy as np"
      ],
      "metadata": {
        "id": "dCQzTO0ULtlx"
      },
      "execution_count": 85,
      "outputs": []
    },
    {
      "cell_type": "markdown",
      "source": [
        "__1.__ *Измените функцию calc_logloss так, чтобы нули по возможности не попадали в np.log."
      ],
      "metadata": {
        "id": "QuvUaJfHLB1W"
      }
    },
    {
      "cell_type": "code",
      "source": [
        "def calc_logloss(y, y_pred):\n",
        "    err = - np.mean(y * np.log(y_pred + 1e-10) + (1.0 - y) * np.log(1.0 - y_pred + 1e-10))   # err = - np.mean(y * np.log(y_pred) + (1.0 - y) * np.log(1.0 - y_pred))\n",
        "    return err"
      ],
      "metadata": {
        "id": "IOg_oz2wO6uY"
      },
      "execution_count": 86,
      "outputs": []
    },
    {
      "cell_type": "markdown",
      "source": [
        "__2.__ Подберите аргументы функции eval_model для логистической регрессии таким образом, чтобы log loss был минимальным."
      ],
      "metadata": {
        "id": "S34eGQ6QLJGI"
      }
    },
    {
      "cell_type": "code",
      "source": [
        "def sigmoid(z):\n",
        "    res = 1 / (1 + np.exp(-z))\n",
        "    return res"
      ],
      "metadata": {
        "id": "8YkiJOgHLpMa"
      },
      "execution_count": 87,
      "outputs": []
    },
    {
      "cell_type": "code",
      "source": [
        "def eval_model(X, y, iterations, eta=1e-4):\n",
        "    np.random.seed(42)\n",
        "    W = np.random.randn(X.shape[1])\n",
        "    n = X.shape[0]\n",
        "    \n",
        "    for i in range(iterations):\n",
        "        z = np.dot(X, W)\n",
        "        y_pred = sigmoid(z)\n",
        "        err = calc_logloss(y, y_pred)\n",
        "        \n",
        "        dQ = 1/n * X.T @ (y_pred - y)\n",
        "        W -= eta * dQ\n",
        "        if i % (iterations / 10) == 0:\n",
        "            print(i, W, err)\n",
        "    return W"
      ],
      "metadata": {
        "id": "AVGT66rvLrou"
      },
      "execution_count": 88,
      "outputs": []
    },
    {
      "cell_type": "code",
      "source": [
        "X = np.array([ [   1,    1,  500,    1],\n",
        "               [   1,    1,  700,    1],\n",
        "               [   1,    2,  750,    2],\n",
        "               [   1,    5,  600,    1],\n",
        "               [   1,    3, 1450,    2],\n",
        "               [   1,    0,  800,    1],\n",
        "               [   1,    5, 1500,    3],\n",
        "               [   1,   10, 2000,    3],\n",
        "               [   1,    1,  450,    1],\n",
        "               [   1,    2, 1000,    2]], dtype=np.float64)\n",
        "\n",
        "y = np.array([0, 0, 1, 0, 1, 0, 1, 0, 1, 1], dtype=np.float64)"
      ],
      "metadata": {
        "id": "X7F2SVvNL8-C"
      },
      "execution_count": 89,
      "outputs": []
    },
    {
      "cell_type": "code",
      "source": [
        "def standard_scale(x):\n",
        "    res = (x - x.mean()) / x.std()\n",
        "    return res"
      ],
      "metadata": {
        "id": "HJn_XGsqMBy0"
      },
      "execution_count": 90,
      "outputs": []
    },
    {
      "cell_type": "code",
      "source": [
        "X_st = X.copy()\n",
        "X_st[:, 2] = standard_scale(X[:, 2])"
      ],
      "metadata": {
        "id": "D_Cm9oUxMG1S"
      },
      "execution_count": 91,
      "outputs": []
    },
    {
      "cell_type": "code",
      "source": [
        "X_st"
      ],
      "metadata": {
        "colab": {
          "base_uri": "https://localhost:8080/"
        },
        "id": "XP91AInHMNVl",
        "outputId": "aec40bab-e731-4b1f-acfc-1e105649cad7"
      },
      "execution_count": 92,
      "outputs": [
        {
          "output_type": "execute_result",
          "data": {
            "text/plain": [
              "array([[ 1.        ,  1.        , -0.97958969,  1.        ],\n",
              "       [ 1.        ,  1.        , -0.56713087,  1.        ],\n",
              "       [ 1.        ,  2.        , -0.46401617,  2.        ],\n",
              "       [ 1.        ,  5.        , -0.77336028,  1.        ],\n",
              "       [ 1.        ,  3.        ,  0.97958969,  2.        ],\n",
              "       [ 1.        ,  0.        , -0.36090146,  1.        ],\n",
              "       [ 1.        ,  5.        ,  1.08270439,  3.        ],\n",
              "       [ 1.        , 10.        ,  2.11385144,  3.        ],\n",
              "       [ 1.        ,  1.        , -1.08270439,  1.        ],\n",
              "       [ 1.        ,  2.        ,  0.05155735,  2.        ]])"
            ]
          },
          "metadata": {},
          "execution_count": 92
        }
      ]
    },
    {
      "cell_type": "code",
      "source": [
        "%%time\n",
        "W = eval_model(X_st, y, 1000000, eta=42)"
      ],
      "metadata": {
        "colab": {
          "base_uri": "https://localhost:8080/"
        },
        "id": "ghmaVuo7MlXl",
        "outputId": "da24c6e0-46be-420e-9c71-2d50b3ce2b90"
      },
      "execution_count": 93,
      "outputs": [
        {
          "output_type": "stream",
          "name": "stdout",
          "text": [
            "0 [-15.43753488 -61.07505588  -0.50228904 -22.25511343] 1.1785958326048056\n",
            "100000 [-339.64608165  -23.00462262 -101.43438714  258.08884032] 0.0011028035825572879\n",
            "200000 [-372.88750222  -25.08116808 -111.50950831  283.01780618] 0.0006567308339684708\n",
            "300000 [-394.68060454  -26.44279421 -118.11454453  299.36174193] 0.0004674100662757863\n",
            "400000 [-410.91758861  -27.45736099 -123.03555866  311.53898752] 0.0003627640862354831\n",
            "500000 [-423.86219187  -28.26624345 -126.95869987  321.24712758] 0.0002963825403319133\n",
            "600000 [-434.62652269  -28.93890689 -130.22104244  329.32015991] 0.00025052713088110213\n",
            "700000 [-443.83994514  -29.51466729 -133.01333947  336.23006876] 0.00021695440369417195\n",
            "800000 [-451.89343348  -30.01795034 -135.4540892   342.27006436] 0.0001913132851129421\n",
            "900000 [-459.0465632   -30.46497366 -137.62196412  347.63481649] 0.00017109050036263302\n",
            "CPU times: user 40.8 s, sys: 2.36 s, total: 43.2 s\n",
            "Wall time: 40.4 s\n"
          ]
        }
      ]
    },
    {
      "cell_type": "markdown",
      "source": [
        "__3.__ Создайте функцию calc_pred_proba, возвращающую предсказанную вероятность класса 1 (на вход подаются W, который уже посчитан функцией eval_model и X, на выходе - массив y_pred_proba)."
      ],
      "metadata": {
        "id": "PKJsUg7CRlgP"
      }
    },
    {
      "cell_type": "code",
      "source": [
        "def calc_pred_proba(W, X):\n",
        "    y_pred_proba = sigmoid(X @ W)\n",
        "    return y_pred_proba"
      ],
      "metadata": {
        "id": "8DsYQNDARIsT"
      },
      "execution_count": 94,
      "outputs": []
    },
    {
      "cell_type": "code",
      "source": [
        "calc_pred_proba(W, X_st)"
      ],
      "metadata": {
        "colab": {
          "base_uri": "https://localhost:8080/"
        },
        "id": "L-upNUY8Si_0",
        "outputId": "5459cf50-46c5-4a23-a9c2-80eda4caf46c"
      },
      "execution_count": 95,
      "outputs": [
        {
          "output_type": "execute_result",
          "data": {
            "text/plain": [
              "array([7.73201897e-04, 7.71471809e-29, 1.00000000e+00, 5.83999329e-70,\n",
              "       9.99959556e-01, 6.19521235e-28, 1.00000000e+00, 7.46939896e-06,\n",
              "       9.99274347e-01, 1.00000000e+00])"
            ]
          },
          "metadata": {},
          "execution_count": 95
        }
      ]
    },
    {
      "cell_type": "markdown",
      "source": [
        "__4.__ Создайте функцию calc_pred, возвращающую предсказанный класс (на вход подаются W, который уже посчитан функцией eval_model и X, на выходе - массив y_pred)."
      ],
      "metadata": {
        "id": "ao3lOm4SeSMP"
      }
    },
    {
      "cell_type": "code",
      "source": [
        "def calc_pred(W, X):\n",
        "    y_pred = np.round(sigmoid(X @ W))\n",
        "    return y_pred\n",
        "\n",
        "\n",
        "y_pred = calc_pred(W, X_st)"
      ],
      "metadata": {
        "id": "yUQutgWxTPAs"
      },
      "execution_count": 96,
      "outputs": []
    },
    {
      "cell_type": "code",
      "source": [
        "y"
      ],
      "metadata": {
        "colab": {
          "base_uri": "https://localhost:8080/"
        },
        "id": "o0jij2aVe87v",
        "outputId": "f45d698f-ad15-4ffe-bc06-c2417a249521"
      },
      "execution_count": 97,
      "outputs": [
        {
          "output_type": "execute_result",
          "data": {
            "text/plain": [
              "array([0., 0., 1., 0., 1., 0., 1., 0., 1., 1.])"
            ]
          },
          "metadata": {},
          "execution_count": 97
        }
      ]
    },
    {
      "cell_type": "markdown",
      "source": [
        "__5.__ * Реализуйте функции для подсчета Accuracy, матрицы ошибок, точности и полноты, а также F1 score."
      ],
      "metadata": {
        "id": "Szs7gJOdfEOm"
      }
    },
    {
      "cell_type": "code",
      "source": [
        "def TP(y, y_pred):\n",
        "    return np.sum((y == 1) & (y_pred == 1)) \n",
        "\n",
        "\n",
        "def TN(y_, y_pred):\n",
        "    return np.sum((y == 0) & (y_pred == 0)) \n",
        "\n",
        "\n",
        "def FP(y, y_pred):\n",
        "    return np.sum((y == 0) & (y_pred == 1)) \n",
        "\n",
        "\n",
        "def FN(y, y_pred):\n",
        "    return np.sum((y == 1) & (y_pred == 0)) \n",
        "\n",
        "\n",
        "def accuracy(y, y_pred):\n",
        "    tp = TP(y, y_pred)\n",
        "    tn = TP(y, y_pred)\n",
        "    fp = FP(y, y_pred) \n",
        "    fn = FN(y, y_pred)\n",
        "    return (tp + tn) / (tp + tn + fp + fn)\n",
        "\n",
        "\n",
        "\n",
        "def confusion_matrix(y, y_pred): \n",
        "    return np.array([[TN(y, y_pred), FP(y, y_pred)],\n",
        "                    [FN(y, y_pred), TP(y, y_pred)]])\n",
        "    \n",
        "\n",
        "\n",
        "def precision(y, y_pred):\n",
        "    tp = TP(y, y_pred)\n",
        "    fp = FP(y, y_pred) \n",
        "    return tp / (tp + fp)\n",
        "\n",
        "\n",
        "def recall(y, y_pred):\n",
        "    tp = TP(y, y_pred)\n",
        "    fn = FN(y, y_pred)\n",
        "    return tp / (tp + fn)\n",
        "      \n",
        "\n",
        "def f1_score(y, y_pred):\n",
        "    return (2 * precision * recall) / (precision + recall)"
      ],
      "metadata": {
        "id": "PAQiceaxfK4a"
      },
      "execution_count": 98,
      "outputs": []
    }
  ]
}