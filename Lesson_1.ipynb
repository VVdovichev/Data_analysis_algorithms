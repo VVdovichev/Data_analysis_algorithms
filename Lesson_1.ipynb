{
  "nbformat": 4,
  "nbformat_minor": 0,
  "metadata": {
    "colab": {
      "name": "Lesson_1.ipynb",
      "provenance": [],
      "collapsed_sections": []
    },
    "kernelspec": {
      "name": "python3",
      "display_name": "Python 3"
    },
    "language_info": {
      "name": "python"
    }
  },
  "cells": [
    {
      "cell_type": "code",
      "source": [
        "import numpy as np\n",
        "import matplotlib.pyplot as plt"
      ],
      "metadata": {
        "id": "uQYfsnsNbIcb"
      },
      "execution_count": 50,
      "outputs": []
    },
    {
      "cell_type": "code",
      "source": [
        "def calc_mse(y, y_pred):\n",
        "    err = np.mean((y - y_pred)**2)\n",
        "    return err"
      ],
      "metadata": {
        "id": "kNj1RJH5bv0j"
      },
      "execution_count": 51,
      "outputs": []
    },
    {
      "cell_type": "code",
      "source": [
        "X = np.array([[ 1,  1],\n",
        "              [ 1,  1],\n",
        "              [ 1,  2],\n",
        "              [ 1,  5],\n",
        "              [ 1,  3],\n",
        "              [ 1,  0],\n",
        "              [ 1,  5],\n",
        "              [ 1, 10],\n",
        "              [ 1,  1],\n",
        "              [ 1,  2]])\n",
        "\n",
        "\n",
        "y = [45, 55, 50, 55, 60, 35, 75, 80, 50, 60]"
      ],
      "metadata": {
        "id": "AQHsar9gcCty"
      },
      "execution_count": 52,
      "outputs": []
    },
    {
      "cell_type": "markdown",
      "source": [
        "__1.__ Подберите скорость обучения (eta) и количество итераций."
      ],
      "metadata": {
        "id": "1JWOB0I9a-AQ"
      }
    },
    {
      "cell_type": "code",
      "execution_count": 133,
      "metadata": {
        "colab": {
          "base_uri": "https://localhost:8080/"
        },
        "id": "gGqf_zGUagf4",
        "outputId": "ac144b45-3ac4-468f-abfb-cfb7a4c6ca30"
      },
      "outputs": [
        {
          "output_type": "stream",
          "name": "stdout",
          "text": [
            "Number of objects = 10        \n",
            "Learning rate = 0.1        \n",
            "Initial weights = [1.  0.5] \n",
            "\n",
            "Iteration #0: W_new = [11.8 38.2], MSE = 3047.75\n",
            "Iteration #10: W_new = [12651.73553914 69617.0969639 ], MSE = 18310954068.05\n",
            "Iteration #20: W_new = [ 7732434.81888022 42641607.3785219 ], MSE = 9128819654907584.0\n",
            "Iteration #30: W_new = [1.06344502e+09 5.86454589e+09], MSE = 2.327920364266856e+20\n",
            "Iteration #40: W_new = [3.00127077e+10 1.65510116e+11], MSE = 2.5451335298159506e+23\n",
            "Iteration #50: W_new = [1.55345341e+11 8.56677968e+11], MSE = 9.57229562050015e+24\n",
            "Iteration #60: W_new = [1.27742291e+11 7.04456313e+11], MSE = 9.351480126476032e+24\n",
            "Iteration #70: W_new = [1.38141953e+10 7.61806995e+10], MSE = 1.6408589528283956e+23\n",
            "Iteration #80: W_new = [1.51674189e+08 8.36432543e+08], MSE = 3.125533537874477e+19\n",
            "Iteration #90: W_new = [116395.49979888 641638.79865787], MSE = 31317286806394.44\n",
            "Iteration #100: W_new = [48.41960685 22.99884954], MSE = 53518.86\n",
            "Iteration #110: W_new = [44.97711882  3.8279907 ], MSE = 43.97\n",
            "Iteration #120: W_new = [44.99892325  3.82402866], MSE = 43.97\n"
          ]
        }
      ],
      "source": [
        "n = X.shape[0]\n",
        "\n",
        "eta = 0.1 # eta = 1e-2\n",
        "n_iter = 120 # n_iter = 1000\n",
        "\n",
        "W = np.array([1, 0.5])\n",
        "print(f'Number of objects = {n} \\\n",
        "       \\nLearning rate = {eta} \\\n",
        "       \\nInitial weights = {W} \\n')\n",
        "\n",
        "for i in range(n_iter + 1): # for i in range(n_iter):\n",
        "    y_pred = np.dot(X, W)\n",
        "    err = calc_mse(y, y_pred)\n",
        "    for k in range(W.shape[0]):\n",
        "         W[k] -= eta * (1/n * 2 * X[:, k] @ (y_pred - y))\n",
        "    if i % 10 == 0:\n",
        "        eta /= 1.1\n",
        "        print(f'Iteration #{i}: W_new = {W}, MSE = {round(err, 2)}')"
      ]
    },
    {
      "cell_type": "markdown",
      "source": [
        "__2*.__ В этом коде мы избавляемся от итераций по весам, но тут есть ошибка, исправьте ее"
      ],
      "metadata": {
        "id": "nvmP6ynBfxTN"
      }
    },
    {
      "cell_type": "code",
      "source": [
        "n = X.shape[0]\n",
        "\n",
        "eta = 1e-2 \n",
        "n_iter = 100\n",
        "\n",
        "W = np.array([1, 0.5])\n",
        "print(f'Number of objects = {n} \\\n",
        "       \\nLearning rate = {eta} \\\n",
        "       \\nInitial weights = {W} \\n')\n",
        "\n",
        "for i in range(n_iter):\n",
        "    y_pred = np.dot(X, W)\n",
        "    err = calc_mse(y, y_pred)\n",
        "#     for k in range(W.shape[0]):\n",
        "#         W[k] -= eta * (1/n * 2 * X[:, k] @ (y_pred - y))\n",
        "    # ИЗМЕНЕНИЯ\n",
        "    W -= eta * (1/n * 2 * np.dot(X.T, y_pred - y))  # W -= eta * (1/n * 2 * np.dot(X, y_pred - y))\n",
        "    # ИЗМЕНЕНИЯ\n",
        "    #\n",
        "    if i % 10 == 0:\n",
        "        print(f'Iteration #{i}: W_new = {W}, MSE = {round(err,2)}')"
      ],
      "metadata": {
        "colab": {
          "base_uri": "https://localhost:8080/"
        },
        "id": "zw3JSMwMf0Ty",
        "outputId": "9e831639-1827-4383-811d-e76ca15b6d97"
      },
      "execution_count": 67,
      "outputs": [
        {
          "output_type": "stream",
          "name": "stdout",
          "text": [
            "Number of objects = 10        \n",
            "Learning rate = 0.01        \n",
            "Initial weights = [1.  0.5] \n",
            "\n",
            "Iteration #0: W_new = [2.08 4.27], MSE = 3047.75\n",
            "Iteration #10: W_new = [ 7.0011236 10.6169007], MSE = 738.65\n",
            "Iteration #20: W_new = [10.3486292  10.10603105], MSE = 622.03\n",
            "Iteration #30: W_new = [13.38789582  9.55618391], MSE = 525.24\n",
            "Iteration #40: W_new = [16.16088505  9.05336203], MSE = 444.66\n",
            "Iteration #50: W_new = [18.69110735  8.59454545], MSE = 377.58\n",
            "Iteration #60: W_new = [20.99981865  8.17589626], MSE = 321.72\n",
            "Iteration #70: W_new = [23.10641138  7.79389815], MSE = 275.22\n",
            "Iteration #80: W_new = [25.02858024  7.44534246], MSE = 236.5\n",
            "Iteration #90: W_new = [26.78247081  7.12730145], MSE = 204.27\n"
          ]
        }
      ]
    }
  ]
}