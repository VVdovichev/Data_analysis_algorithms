{
  "nbformat": 4,
  "nbformat_minor": 0,
  "metadata": {
    "colab": {
      "name": "Lesson_2.ipynb",
      "provenance": [],
      "collapsed_sections": [],
      "authorship_tag": "ABX9TyPEt5vCDAGJL3I88yAv6/G2",
      "include_colab_link": true
    },
    "kernelspec": {
      "name": "python3",
      "display_name": "Python 3"
    },
    "language_info": {
      "name": "python"
    }
  },
  "cells": [
    {
      "cell_type": "markdown",
      "metadata": {
        "id": "view-in-github",
        "colab_type": "text"
      },
      "source": [
        "<a href=\"https://colab.research.google.com/github/VVdovichev/Data_analysis_algorithms/blob/main/Lesson_2.ipynb\" target=\"_parent\"><img src=\"https://colab.research.google.com/assets/colab-badge.svg\" alt=\"Open In Colab\"/></a>"
      ]
    },
    {
      "cell_type": "code",
      "source": [
        "import numpy as np\n",
        "import matplotlib.pyplot as plt\n",
        "import seaborn as sns\n",
        "from sklearn.datasets import make_regression"
      ],
      "metadata": {
        "id": "2ruicjcEw9Zy"
      },
      "execution_count": 811,
      "outputs": []
    },
    {
      "cell_type": "code",
      "source": [
        "def calc_mse(y, y_pred):\n",
        "    err = np.mean((y - y_pred)**2)\n",
        "    return err"
      ],
      "metadata": {
        "id": "jLKJF_QrxsRA"
      },
      "execution_count": 812,
      "outputs": []
    },
    {
      "cell_type": "code",
      "source": [
        "def standard_scale(X):\n",
        "    mean = X.mean()\n",
        "    std = X.std()\n",
        "    return (X - mean) / std"
      ],
      "metadata": {
        "id": "kqpD4d6SyCmN"
      },
      "execution_count": 813,
      "outputs": []
    },
    {
      "cell_type": "code",
      "source": [
        "def gradient_descent_reg_l2(X, y, iterations, eta=1e-4, reg=1e-8):\n",
        "    W = np.random.randn(X.shape[1])\n",
        "    n = X.shape[0]\n",
        "    \n",
        "    for i in range(0, iterations):\n",
        "        y_pred = np.dot(X, W)\n",
        "        err = calc_mse(y, y_pred)\n",
        "        \n",
        "        dQ = 2/n * X.T @ (y_pred - y) # градиент функции ошибки\n",
        "        dReg = reg * W # градиент регуляризации\n",
        "        \n",
        "        W -= eta * (dQ + dReg)\n",
        "        \n",
        "        if i % (iterations / 10) == 0:\n",
        "            print(f'Iter: {i}, weights: {W}, error {err}')\n",
        "    \n",
        "    print(f'Final MSE: {calc_mse(y, np.dot(X, W))}')\n",
        "    return W"
      ],
      "metadata": {
        "id": "2Y8ETPaqxrMy"
      },
      "execution_count": 814,
      "outputs": []
    },
    {
      "cell_type": "markdown",
      "source": [
        "__1.__Постройте график зависимости весов всех признаков от lambda в самописной L2-регуляризации (на данных про ЕГЭ). Сделайте вывод."
      ],
      "metadata": {
        "id": "djFpxodKvxU_"
      }
    },
    {
      "cell_type": "code",
      "execution_count": 815,
      "metadata": {
        "id": "pSZoDTZCvqMh"
      },
      "outputs": [],
      "source": [
        "X = np.array([[   1,    1,  500,    1],\n",
        "              [   1,    1,  700,    1],\n",
        "              [   1,    2,  750,    2],\n",
        "              [   1,    5,  600,    1],\n",
        "              [   1,    3, 1450,    2],\n",
        "              [   1,    0,  800,    1],\n",
        "              [   1,    5, 1500,    3],\n",
        "              [   1,   10, 2000,    3],\n",
        "              [   1,    1,  450,    1],\n",
        "              [   1,    2, 1000,    2]])\n",
        "\n",
        "y = [45, 55, 50, 55, 60, 35, 75, 80, 50, 60]"
      ]
    },
    {
      "cell_type": "code",
      "source": [
        "# Масштабирование\n",
        "X_st = X.copy().astype(np.float64)\n",
        "X_st[:, 1] = standard_scale(X_st[:, 1])\n",
        "X_st[:, 2] = standard_scale(X_st[:, 2])\n",
        "X_st[:, 3] = standard_scale(X_st[:, 3])\n",
        "\n",
        "X_st"
      ],
      "metadata": {
        "colab": {
          "base_uri": "https://localhost:8080/"
        },
        "id": "hCj2-pYQyonQ",
        "outputId": "ffc908a6-d927-417c-fd50-8c1d5babf008"
      },
      "execution_count": 816,
      "outputs": [
        {
          "output_type": "execute_result",
          "data": {
            "text/plain": [
              "array([[ 1.        , -0.70710678, -0.97958969, -0.89625816],\n",
              "       [ 1.        , -0.70710678, -0.56713087, -0.89625816],\n",
              "       [ 1.        , -0.35355339, -0.46401617,  0.38411064],\n",
              "       [ 1.        ,  0.70710678, -0.77336028, -0.89625816],\n",
              "       [ 1.        ,  0.        ,  0.97958969,  0.38411064],\n",
              "       [ 1.        , -1.06066017, -0.36090146, -0.89625816],\n",
              "       [ 1.        ,  0.70710678,  1.08270439,  1.66447944],\n",
              "       [ 1.        ,  2.47487373,  2.11385144,  1.66447944],\n",
              "       [ 1.        , -0.70710678, -1.08270439, -0.89625816],\n",
              "       [ 1.        , -0.35355339,  0.05155735,  0.38411064]])"
            ]
          },
          "metadata": {},
          "execution_count": 816
        }
      ]
    },
    {
      "cell_type": "code",
      "source": [
        "lambda_ = [1e-8, 1e-7, 1e-6, 1e-5, 1e-4, 1e-3, 1e-2, 1e-1, 1, 1e+1, 1e+2]\n",
        "\n",
        "dict_w = {}\n",
        "\n",
        "for i in lambda_:\n",
        "    dict_w[i] = gradient_descent_reg_l2(X_st, y, iterations=10000, reg=i)"
      ],
      "metadata": {
        "colab": {
          "base_uri": "https://localhost:8080/"
        },
        "id": "aMvU8RFa0T4V",
        "outputId": "b06d160e-2da1-479e-dfba-4537ba231c10"
      },
      "execution_count": 817,
      "outputs": [
        {
          "output_type": "stream",
          "name": "stdout",
          "text": [
            "Iter: 0, weights: [-0.08191317 -0.87897794 -0.04465632 -2.28580921], error 3441.7646129868313\n",
            "Iter: 1000, weights: [10.17557424  1.22103497  1.98910118 -0.125789  ], error 2250.5943879650326\n",
            "Iter: 2000, weights: [18.57352664  2.50007721  3.14942026  1.17754433], error 1494.8830166389052\n",
            "Iter: 3000, weights: [25.44905099  3.28978072  3.79193243  1.97191918], error 1003.3797921316606\n",
            "Iter: 4000, weights: [31.07814162  3.7872983   4.12793388  2.46394222], error 679.2018196547783\n",
            "Iter: 5000, weights: [35.68675904  4.10986325  4.28295023  2.77635998], error 463.73210296328153\n",
            "Iter: 6000, weights: [39.45990037  4.32721201  4.33153897  2.98208685], error 319.91282740410173\n",
            "Iter: 7000, weights: [42.54902542  4.48085181  4.31797091  3.12442624], error 223.69274754961947\n",
            "Iter: 8000, weights: [45.0781365   4.59551079  4.2685203   3.22908703], error 159.22876458587135\n",
            "Iter: 9000, weights: [47.14875611  4.68594253  4.19876812  3.31132434], error 115.99952762086886\n",
            "Final MSE: 86.98721880741165\n",
            "Iter: 0, weights: [1.46531349 0.16564025 1.19276644 1.34024031], error 3139.609988834941\n",
            "Iter: 1000, weights: [11.44231089  1.55320575  2.40287213  2.63288634], error 2088.813594687624\n",
            "Iter: 2000, weights: [19.61062202  2.4288927   3.07577187  3.39961223], error 1400.6887836513033\n",
            "Iter: 3000, weights: [26.2981357   2.99769977  3.43088848  3.85488352], error 945.1205720745004\n",
            "Iter: 4000, weights: [31.77329923  3.38159876  3.59855603  4.12606574], error 641.7154972582623\n",
            "Iter: 5000, weights: [36.25589429  3.65321366  3.65617     4.2887698 ], error 438.99501085556057\n",
            "Iter: 6000, weights: [39.92585927  3.85583514  3.64966947  4.38785588], error 303.30363440563406\n",
            "Iter: 7000, weights: [42.93051233  4.01531477  3.60630294  4.44991486], error 212.38227313624807\n",
            "Iter: 8000, weights: [45.39046496  4.14713364  3.54221443  4.49068525], error 151.4164502207094\n",
            "Iter: 9000, weights: [47.40446353  4.26060343  3.46695135  4.51946045], error 110.51317919472822\n",
            "Final MSE: 83.05412036093105\n",
            "Iter: 0, weights: [-0.17480678 -0.22957278 -0.27300933 -0.39212825], error 3393.5638241715833\n",
            "Iter: 1000, weights: [10.09952043  1.58575945  1.45743663  1.42470671], error 2235.9767461497954\n",
            "Iter: 2000, weights: [18.51125898  2.70017909  2.44421748  2.51290413], error 1491.0479501433856\n",
            "Iter: 3000, weights: [25.39806957  3.39627611  2.99024915  3.16861341], error 1002.6389365400552\n",
            "Iter: 4000, weights: [31.03639985  3.84208011  3.27549816  3.56777381], error 679.0837180555653\n",
            "Iter: 5000, weights: [35.65258145  4.1375368   3.40686952  3.81489214], error 463.5272426540411\n",
            "Iter: 6000, weights: [39.4319153   4.34212735  3.44785278  3.97202906], error 319.4800149593087\n",
            "Iter: 7000, weights: [42.52610996  4.49128165  3.43613941  4.07602419], error 223.05533444335438\n",
            "Iter: 8000, weights: [45.05937135  4.60613223  3.39409184  4.14873208], error 158.44395532135428\n",
            "Iter: 9000, weights: [47.13338866  4.69931099  3.33496477  4.20310485], error 115.12020541743694\n",
            "Final MSE: 86.05381570896995\n",
            "Iter: 0, weights: [ 1.40316041 -0.65189407  0.36989711 -1.30401958], error 3234.1084436963183\n",
            "Iter: 1000, weights: [11.39141923  1.25485034  2.17463857  0.61619933], error 2124.574930564838\n",
            "Iter: 2000, weights: [19.56894215  2.42562696  3.19866386  1.7709551 ], error 1415.0302564700846\n",
            "Iter: 3000, weights: [26.26399103  3.15718422  3.76006971  2.47125099], error 951.4495782711035\n",
            "Iter: 4000, weights: [31.74531832  3.62596802  4.04784037  2.90185403], error 644.9189033880441\n",
            "Iter: 5000, weights: [36.23295528  3.93692801  4.17423628  3.17251783], error 440.8993451602608\n",
            "Iter: 6000, weights: [39.9070445   4.15252138  4.20592619  3.3484219 ], error 304.6204264108701\n",
            "Iter: 7000, weights: [42.91507116  4.30994881  4.18248766  3.46826021], error 213.40648394418795\n",
            "Iter: 8000, weights: [45.37778337  4.43139739  4.12740088  3.55499026], error 152.28077089147382\n",
            "Iter: 9000, weights: [47.39403924  4.53012775  4.05458178  3.62222063], error 111.28294628672009\n",
            "Final MSE: 83.76424606684758\n",
            "Iter: 0, weights: [ 0.22372945 -0.69898523 -0.74390933 -2.08142854], error 3415.466090160286\n",
            "Iter: 1000, weights: [10.42575695  1.43283048  1.35138535  0.12301453], error 2229.7156806960284\n",
            "Iter: 2000, weights: [18.77821999  2.72628911  2.55348752  1.45164673], error 1479.566454058506\n",
            "Iter: 3000, weights: [25.61643317  3.52030738  3.22590138  2.25989741], error 992.481689751249\n",
            "Iter: 4000, weights: [31.21492061  4.0163528   3.58460478  2.75895367], error 671.5169401152855\n",
            "Iter: 5000, weights: [35.79843692  4.33420987  3.75790933  3.07428854], error 458.2968888015236\n",
            "Iter: 6000, weights: [39.55099008  4.54511943  3.82203227  3.2804413 ], error 316.0258433530509\n",
            "Iter: 7000, weights: [42.62322857  4.69147192  3.82223502  3.42168558], error 220.8637621068921\n",
            "Iter: 8000, weights: [45.13848924  4.79851032  3.78538468  3.52431127], error 157.12175060339115\n",
            "Iter: 9000, weights: [47.19774871  4.8812848   3.72741872  3.60392298], error 114.3863456313102\n",
            "Final MSE: 85.71368438798731\n",
            "Iter: 0, weights: [ 1.74228503 -1.78319776  0.08014119 -0.47311259], error 3211.4074238608882\n",
            "Iter: 1000, weights: [11.66843422  0.25307587  1.95090205  1.47652624], error 2105.3459661095176\n",
            "Iter: 2000, weights: [19.79430248  1.52098548  3.01079901  2.63265288], error 1400.9004650627503\n",
            "Iter: 3000, weights: [26.44640227  2.32927082  3.59052546  3.31851604], error 941.6986627641736\n",
            "Iter: 4000, weights: [31.89202731  2.86155533  3.88651104  3.72609543], error 638.4217702523553\n",
            "Iter: 5000, weights: [36.3499929   3.22710885  4.01540955  3.96937688], error 436.6742269015164\n",
            "Iter: 6000, weights: [39.99942839  3.49101136  4.04647536  4.11600799], error 301.929457408074\n",
            "Iter: 7000, weights: [42.98697486  3.69207665  4.02080119  4.2061075 ], error 211.7283354209591\n",
            "Iter: 8000, weights: [45.43267747  3.85350305  3.96274903  4.26344144], error 151.25842412471746\n",
            "Iter: 9000, weights: [47.4348091   3.98920253  3.88674214  4.30206372], error 110.6764439792775\n",
            "Final MSE: 83.41452878037464\n",
            "Iter: 0, weights: [-1.37421043  1.12918697  0.14329434  0.86238671], error 3469.027082363102\n",
            "Iter: 1000, weights: [9.11373169 2.53462459 1.4710269  2.2710945 ], error 2306.0011952819023\n",
            "Iter: 2000, weights: [17.69177662  3.39775067  2.22387375  3.11616306], error 1545.5334754716714\n",
            "Iter: 3000, weights: [24.70772447  3.93746139  2.63645079  3.62697459], error 1042.5686584309346\n",
            "Iter: 4000, weights: [30.44603949  4.28378833  2.84800342  3.9396656 ], error 707.7809208231972\n",
            "Iter: 5000, weights: [35.13938387  4.51400285  2.94116085  4.13501881], error 484.119324693204\n",
            "Iter: 6000, weights: [38.97805103  4.67405013  2.96494299  4.26095799], error 334.36148481569575\n",
            "Iter: 7000, weights: [42.11768118  4.79127409  2.94841868  4.34590211], error 233.93036866356027\n",
            "Iter: 8000, weights: [44.68557184  4.88197184  2.90881405  4.40669308], error 166.4915193447497\n",
            "Iter: 9000, weights: [46.7858391   4.95587879  2.85632598  4.45330205], error 121.14936738650938\n",
            "Final MSE: 90.6213565577311\n",
            "Iter: 0, weights: [-0.44348185 -1.05759221  0.70389832 -0.91088463], error 3433.6239634731473\n",
            "Iter: 1000, weights: [9.83386193 0.83384283 2.43380642 0.94372254], error 2265.599801176476\n",
            "Iter: 2000, weights: [18.16433118  1.99618677  3.39614539  2.04436494], error 1520.8784024384772\n",
            "Iter: 3000, weights: [24.9167294   2.7265877   3.90902557  2.7020848 ], error 1035.4712809464424\n",
            "Iter: 4000, weights: [30.38999632  3.20006025  4.15950868  3.09979743], error 714.6663623242388\n",
            "Iter: 5000, weights: [34.82644242  3.51975053  4.25756025  3.34504257], error 500.61105239428997\n",
            "Iter: 6000, weights: [38.42247643  3.74650981  4.26779158  3.50101975], error 356.6980461568463\n",
            "Iter: 7000, weights: [41.33730067  3.91629477  4.22813467  3.60484711], error 259.27008824997273\n",
            "Iter: 8000, weights: [43.69995917  4.05040539  4.16082919  3.67830347], error 192.84602636556474\n",
            "Iter: 9000, weights: [45.61505069  4.16150911  4.07888622  3.73414791], error 147.21531959515684\n",
            "Final MSE: 115.60656963991838\n",
            "Iter: 0, weights: [ 0.84118714 -0.48234781 -0.30165903  1.88439212], error 3237.1945423837387\n",
            "Iter: 1000, weights: [10.38690831  1.10925125  1.12124585  3.13249075], error 2197.885990654911\n",
            "Iter: 2000, weights: [17.4582342   2.03736519  1.87550732  3.74567233], error 1572.1095809543403\n",
            "Iter: 3000, weights: [22.69656549  2.59799666  2.27227713  4.02564321], error 1181.473136748098\n",
            "Iter: 4000, weights: [26.57704209  2.95189101  2.47850731  4.13346098], error 930.3243884240735\n",
            "Iter: 5000, weights: [29.45164048  3.18683346  2.58367387  4.15472648], error 764.7313540280727\n",
            "Iter: 6000, weights: [31.5810995   3.35117968  2.63564345  4.13461188], error 653.1314272935575\n",
            "Iter: 7000, weights: [33.15857053  3.4719139   2.65995048  4.09667393], error 576.4864581493784\n",
            "Iter: 8000, weights: [34.32713722  3.56438374  2.67015553  4.05295175], error 523.0005747919391\n",
            "Iter: 9000, weights: [35.19279376  3.63755581  2.67340938  4.00938121], error 485.17947503187935\n",
            "Final MSE: 458.147490604085\n",
            "Iter: 0, weights: [ 0.05936796  0.34647455 -0.5231213   0.36711725], error 3342.786649829222\n",
            "Iter: 1000, weights: [6.60033257 1.23478735 0.86551856 1.24052311], error 2588.660146937932\n",
            "Iter: 2000, weights: [8.56901416 1.41203326 1.21126061 1.40378999], error 2385.625406030803\n",
            "Iter: 3000, weights: [9.16154254 1.44482342 1.30203285 1.42947321], error 2327.014970677016\n",
            "Iter: 4000, weights: [9.33988011 1.44989273 1.32734338 1.43146379], error 2309.699084084453\n",
            "Iter: 5000, weights: [9.39355566 1.45026029 1.33484317 1.43058608], error 2304.5398064227293\n",
            "Iter: 6000, weights: [9.40971078 1.45007901 1.33719002 1.42991851], error 2302.9969439696215\n",
            "Iter: 7000, weights: [9.4145731  1.44994687 1.33795744 1.42960022], error 2302.5346690347856\n",
            "Iter: 8000, weights: [9.41603655 1.44988526 1.33821667 1.42946819], error 2302.3960010952705\n",
            "Iter: 9000, weights: [9.41647702 1.44986021 1.33830624 1.4294167 ], error 2302.3543740116993\n",
            "Final MSE: 2302.341871793977\n",
            "Iter: 0, weights: [-0.64330019  0.54558069 -0.48489546  0.21397299], error 3421.6186850017884\n",
            "Iter: 1000, weights: [1.10778137 0.20548996 0.19793307 0.20576514], error 3215.8521683153517\n",
            "Iter: 2000, weights: [1.10784314 0.20547419 0.19795963 0.20576233], error 3215.845109202929\n",
            "Iter: 3000, weights: [1.10784314 0.20547419 0.19795963 0.20576233], error 3215.845108956112\n",
            "Iter: 4000, weights: [1.10784314 0.20547419 0.19795963 0.20576233], error 3215.8451089561045\n",
            "Iter: 5000, weights: [1.10784314 0.20547419 0.19795963 0.20576233], error 3215.8451089561045\n",
            "Iter: 6000, weights: [1.10784314 0.20547419 0.19795963 0.20576233], error 3215.8451089561045\n",
            "Iter: 7000, weights: [1.10784314 0.20547419 0.19795963 0.20576233], error 3215.8451089561045\n",
            "Iter: 8000, weights: [1.10784314 0.20547419 0.19795963 0.20576233], error 3215.8451089561045\n",
            "Iter: 9000, weights: [1.10784314 0.20547419 0.19795963 0.20576233], error 3215.8451089561045\n",
            "Final MSE: 3215.8451089561045\n"
          ]
        }
      ]
    },
    {
      "cell_type": "code",
      "source": [
        "dict_w"
      ],
      "metadata": {
        "colab": {
          "base_uri": "https://localhost:8080/"
        },
        "id": "0k46I48K1VKi",
        "outputId": "e47d24c8-3a40-428b-b72e-2b51dd9553b6"
      },
      "execution_count": 818,
      "outputs": [
        {
          "output_type": "execute_result",
          "data": {
            "text/plain": [
              "{1e-08: array([48.84247064,  4.76090064,  4.11802649,  3.38011864]),\n",
              " 1e-07: array([49.05186347,  4.36126752,  3.3862256 ,  4.54168745]),\n",
              " 1e-06: array([48.82988227,  4.77832033,  3.26667331,  4.2467666 ]),\n",
              " 1e-05: array([49.04328396,  4.61401329,  3.97234952,  3.67795478]),\n",
              " 0.0001: array([48.8821541 ,  4.94872383,  3.65785415,  3.66971604]),\n",
              " 0.001: array([49.07233848,  4.10745031,  3.80138908,  4.3302368 ]),\n",
              " 0.01: array([48.50208801,  5.01877266,  2.79704115,  4.49158768]),\n",
              " 0.1: array([47.16596433,  4.25709596,  3.9899819 ,  3.7797952 ]),\n",
              " 1: array([35.83350908,  3.69680636,  2.673441  ,  3.96873198]),\n",
              " 10.0: array([9.41660952, 1.44985064, 1.33833763, 1.42939727]),\n",
              " 100.0: array([1.10784314, 0.20547419, 0.19795963, 0.20576233])}"
            ]
          },
          "metadata": {},
          "execution_count": 818
        }
      ]
    },
    {
      "cell_type": "code",
      "source": [
        "plt.figure(figsize=(16, 6))\n",
        "\n",
        "list_x = []\n",
        "list_y = []\n",
        "\n",
        "for i in range(len(dict_w)):\n",
        "    list_x.append(list(dict_w.values())[i][0])\n",
        "    list_y.append(list(dict_w.keys())[i])\n",
        "\n",
        "sns.barplot(x=list_x, y=list_y, orient='h')\n",
        "plt.title('Feature_1', fontsize=30)\n",
        "plt.xlabel('Weight')\n",
        "plt.ylabel('Eta')\n",
        "plt.show()"
      ],
      "metadata": {
        "colab": {
          "base_uri": "https://localhost:8080/",
          "height": 417
        },
        "id": "IGUo4FPbzqV1",
        "outputId": "e7414893-63af-46b9-dd25-c61a73b765af"
      },
      "execution_count": 819,
      "outputs": [
        {
          "output_type": "display_data",
          "data": {
            "image/png": "[encoded data removed]",
            "text/plain": [
              "<Figure size 1152x432 with 1 Axes>"
            ]
          },
          "metadata": {
            "needs_background": "light"
          }
        }
      ]
    },
    {
      "cell_type": "code",
      "source": [
        "plt.figure(figsize=(16, 6))\n",
        "\n",
        "list_x = []\n",
        "list_y = []\n",
        "\n",
        "for i in range(len(dict_w)):\n",
        "    list_x.append(list(dict_w.values())[i][1])\n",
        "    list_y.append(list(dict_w.keys())[i])\n",
        "\n",
        "sns.barplot(x=list_x, y=list_y, orient='h')\n",
        "plt.title('Feature_2', fontsize=30)\n",
        "plt.xlabel('Weight')\n",
        "plt.ylabel('Eta')\n",
        "plt.show()"
      ],
      "metadata": {
        "colab": {
          "base_uri": "https://localhost:8080/",
          "height": 417
        },
        "id": "58uaoVHTAJJ7",
        "outputId": "9ec55380-2251-4fa9-e6e3-d15b85d1ab96"
      },
      "execution_count": 820,
      "outputs": [
        {
          "output_type": "display_data",
          "data": {
            "image/png": "[encoded data removed]",
            "text/plain": [
              "<Figure size 1152x432 with 1 Axes>"
            ]
          },
          "metadata": {
            "needs_background": "light"
          }
        }
      ]
    },
    {
      "cell_type": "code",
      "source": [
        "plt.figure(figsize=(16, 6))\n",
        "\n",
        "list_x = []\n",
        "list_y = []\n",
        "\n",
        "for i in range(len(dict_w)):\n",
        "    list_x.append(list(dict_w.values())[i][2])\n",
        "    list_y.append(list(dict_w.keys())[i])\n",
        "\n",
        "sns.barplot(x=list_x, y=list_y, orient='h')\n",
        "plt.title('Feature_3', fontsize=30)\n",
        "plt.xlabel('Weight')\n",
        "plt.ylabel('Eta')\n",
        "plt.show()"
      ],
      "metadata": {
        "colab": {
          "base_uri": "https://localhost:8080/",
          "height": 417
        },
        "id": "1RU58lCoFFgb",
        "outputId": "d0b9c28f-9f34-40b9-f344-4a28318a389e"
      },
      "execution_count": 821,
      "outputs": [
        {
          "output_type": "display_data",
          "data": {
            "image/png": "[encoded data removed]",
            "text/plain": [
              "<Figure size 1152x432 with 1 Axes>"
            ]
          },
          "metadata": {
            "needs_background": "light"
          }
        }
      ]
    },
    {
      "cell_type": "code",
      "source": [
        "plt.figure(figsize=(16, 6))\n",
        "\n",
        "list_x = []\n",
        "list_y = []\n",
        "\n",
        "for i in range(len(dict_w)):\n",
        "    list_x.append(list(dict_w.values())[i][3])\n",
        "    list_y.append(list(dict_w.keys())[i])\n",
        "\n",
        "sns.barplot(x=list_x, y=list_y, orient='h')\n",
        "plt.title('Feature_4', fontsize=30)\n",
        "plt.xlabel('Weight')\n",
        "plt.ylabel('Eta')\n",
        "plt.show()"
      ],
      "metadata": {
        "colab": {
          "base_uri": "https://localhost:8080/",
          "height": 417
        },
        "id": "G8w3PzW1FIeT",
        "outputId": "466ca8c7-0b78-4820-9f36-6e10684d20b3"
      },
      "execution_count": 822,
      "outputs": [
        {
          "output_type": "display_data",
          "data": {
            "image/png": "[encoded data removed]",
            "text/plain": [
              "<Figure size 1152x432 with 1 Axes>"
            ]
          },
          "metadata": {
            "needs_background": "light"
          }
        }
      ]
    },
    {
      "cell_type": "markdown",
      "source": [
        "Исходя из графиков можем сделать вывод: при увеличении L2-регуляризации, вес признаков уменьшается."
      ],
      "metadata": {
        "id": "xsR375JTFeTX"
      }
    },
    {
      "cell_type": "markdown",
      "source": [
        "__2.__Напишите функцию наподобие gradient_descent_reg_l2, но для применения L1-регуляризации."
      ],
      "metadata": {
        "id": "HLp2-HolGF6n"
      }
    },
    {
      "cell_type": "code",
      "source": [
        "def gradient_descent_reg_l1(X, y, iterations, eta=1e-4, reg=1e-8):\n",
        "    W = np.random.randn(X.shape[1])\n",
        "    n = X.shape[0]\n",
        "    \n",
        "    for i in range(0, iterations):\n",
        "        y_pred = np.dot(X, W)\n",
        "        err = calc_mse(y, y_pred)\n",
        "        \n",
        "        dQ = 2/n * X.T @ (y_pred - y) # градиент функции ошибки\n",
        "        dReg = reg * np.sign(W) # градиент регуляризации\n",
        "        \n",
        "        W -= eta * (dQ + dReg)\n",
        "        \n",
        "        if i % (iterations / 10) == 0:\n",
        "            print(f'Iter: {i}, weights: {W}, error {err}')\n",
        "    \n",
        "    print(f'Final MSE: {calc_mse(y, np.dot(X, W))}')\n",
        "    return W"
      ],
      "metadata": {
        "id": "pjI6kFoTGyLH"
      },
      "execution_count": 823,
      "outputs": []
    },
    {
      "cell_type": "markdown",
      "source": [
        "__3.__Можно ли к одному и тому же признаку применить сразу и нормализацию, и стандартизацию?"
      ],
      "metadata": {
        "id": "Tp1FDdnrM8Yc"
      }
    },
    {
      "cell_type": "markdown",
      "source": [
        "Можно, но думаю, что данные обработанные сразу двумя этими методами, будут плохо сказываться на качестве модели. "
      ],
      "metadata": {
        "id": "g7NbwQX1NBQK"
      }
    },
    {
      "cell_type": "markdown",
      "source": [
        "__4.__* Сгенерируйте датасет при помощи sklearn.datasets.make_regression и обучите линейную модель при помощи градиентного и стохастического градиентного спуска. Нанесите среднеквадратичную ошибку для обоих методов на один график, сделайте выводы о разнице скорости сходимости каждого из методов."
      ],
      "metadata": {
        "id": "_p7yDgSfPcY6"
      }
    },
    {
      "cell_type": "code",
      "source": [
        "X, y, w_true = make_regression(n_samples=100000, n_features=20, n_informative=10, n_targets=1, \n",
        "                                      noise=5, coef=True, random_state=2)\n",
        "X, y, w_true"
      ],
      "metadata": {
        "colab": {
          "base_uri": "https://localhost:8080/"
        },
        "id": "TmoMDchBM8D1",
        "outputId": "d349e608-9f50-4159-dd7d-e62d8bbbe2a7"
      },
      "execution_count": 824,
      "outputs": [
        {
          "output_type": "execute_result",
          "data": {
            "text/plain": [
              "(array([[-0.71760732, -1.09367119, -0.73597009, ..., -0.09194752,\n",
              "          0.77271648, -0.5294093 ],\n",
              "        [-0.21856062, -0.43937009,  1.17601766, ..., -0.44205731,\n",
              "          0.65967443, -0.5364636 ],\n",
              "        [-0.09232329, -0.04777714,  0.58128624, ..., -0.64041891,\n",
              "          1.29076796, -0.34530826],\n",
              "        ...,\n",
              "        [-0.1724219 ,  1.20477844,  0.77081956, ...,  1.78646758,\n",
              "         -0.59041036, -0.6747931 ],\n",
              "        [ 0.93830193, -0.05266006,  1.45767292, ..., -1.01765261,\n",
              "          0.02393901,  1.37086726],\n",
              "        [-0.99582701,  1.30720547, -0.04855569, ...,  1.85683052,\n",
              "         -0.26133944,  0.50888458]]),\n",
              " array([-133.10543687,   44.01778172,   48.98233093, ..., -271.14963388,\n",
              "         161.66813826,  380.05918834]),\n",
              " array([8.03590530e+00, 9.63394753e+00, 0.00000000e+00, 0.00000000e+00,\n",
              "        0.00000000e+00, 7.86058430e+01, 0.00000000e+00, 0.00000000e+00,\n",
              "        9.61298231e+01, 5.95379955e+01, 0.00000000e+00, 3.30583257e+01,\n",
              "        3.71965212e+01, 6.59198012e-02, 0.00000000e+00, 0.00000000e+00,\n",
              "        0.00000000e+00, 2.78539772e+01, 0.00000000e+00, 7.36381949e+01]))"
            ]
          },
          "metadata": {},
          "execution_count": 824
        }
      ]
    },
    {
      "cell_type": "code",
      "source": [
        "X = standard_scale(X)"
      ],
      "metadata": {
        "id": "Wr01yxpug419"
      },
      "execution_count": 825,
      "outputs": []
    },
    {
      "cell_type": "code",
      "source": [
        "def calc_mse(y, y_pred):\n",
        "    err = np.mean((y - y_pred)**2)\n",
        "    return err"
      ],
      "metadata": {
        "id": "OobWlmXURlwd"
      },
      "execution_count": 826,
      "outputs": []
    },
    {
      "cell_type": "code",
      "source": [
        "\n",
        "# классический  GD\n",
        "def gradient_descent(X, y, iterations, eta):\n",
        "    W = np.random.randn(X.shape[1])\n",
        "    n = X.shape[0]\n",
        "    errors = []\n",
        "    w_list = [W.copy()]\n",
        "    for i in range(0, iterations):\n",
        "        y_pred = np.dot(X, W)\n",
        "        \n",
        "        err = calc_mse(y, y_pred)\n",
        "        errors.append(err)\n",
        "        dQ = 2/n * X.T @ (y_pred - y) # градиент функции ошибки\n",
        "        W -= (eta * dQ)\n",
        "        w_list.append(W.copy())\n",
        "        if i % (iterations / 10) == 0:\n",
        "            print(f'Iter: {i}, weights: {W}, error {err}')\n",
        "    print(f'Final MSE: {calc_mse(y, np.dot(X, W))}')\n",
        "    return W, errors, w_list"
      ],
      "metadata": {
        "id": "_0OCNHZfR_6B"
      },
      "execution_count": 827,
      "outputs": []
    },
    {
      "cell_type": "code",
      "source": [
        "%%time\n",
        "weights_GD, errors_GD, w_list_GD = gradient_descent(X, y, iterations=5000, eta=1e-3)"
      ],
      "metadata": {
        "colab": {
          "base_uri": "https://localhost:8080/"
        },
        "id": "608t8L-VTHNu",
        "outputId": "0916d265-42ae-4f73-a190-50e6c21e7a42"
      },
      "execution_count": 828,
      "outputs": [
        {
          "output_type": "stream",
          "name": "stdout",
          "text": [
            "Iter: 0, weights: [ 1.61246033  0.55120196  2.23219431 -2.31959819 -0.08396464  0.1500582\n",
            "  0.55134063 -0.29385632 -0.01398481 -0.84580602 -0.27640437  0.44883617\n",
            " -1.31311456 -0.33529435 -1.00608633  0.38204705  0.29219835 -1.72513349\n",
            " -2.27426791  0.50687373], error 28306.60819193087\n",
            "Iter: 500, weights: [ 5.40508705e+00  6.35141197e+00  8.31106920e-01 -6.55902562e-01\n",
            " -1.88040943e-02  5.01027608e+01  3.33245159e-01  2.86408528e-01\n",
            "  6.09795094e+01  3.74155295e+01 -7.72153724e-02  2.14179462e+01\n",
            "  2.33852355e+01 -3.04159703e-01 -7.23961527e-01  5.27161579e-02\n",
            "  1.35158038e-01  1.69151643e+01 -1.06553388e+00  4.68970657e+01], error 3778.768206367027\n",
            "Iter: 1000, weights: [ 6.96943582e+00  8.45671274e+00  3.14371991e-01 -1.70339245e-01\n",
            " -2.50221271e-03  6.82349827e+01  1.63419652e-01  2.40465817e-01\n",
            "  8.32508607e+01  5.14152528e+01 -1.58384396e-02  2.88995847e+01\n",
            "  3.22339371e+01 -1.53410424e-01 -4.13461266e-01 -2.19371237e-02\n",
            "  5.09506266e-02  2.37985878e+01 -4.82277445e-01  6.38442353e+01], error 523.6398217157695\n",
            "Iter: 1500, weights: [ 7.60618656e+00  9.22095016e+00  1.24587138e-01 -3.71159763e-02\n",
            " -9.09707492e-04  7.48173890e+01  6.83912532e-02  1.29065286e-01\n",
            "  9.13852993e+01  5.65381739e+01  2.70452636e-03  3.15689217e+01\n",
            "  3.54040390e+01 -4.61043636e-02 -2.23038734e-01 -3.20935131e-02\n",
            "  1.04103924e-02  2.63399844e+01 -2.17944571e-01  7.00361530e+01], error 91.3252556773656\n",
            "Iter: 2000, weights: [ 7.86263278e+00  9.49840399e+00  5.51637112e-02 -4.40901177e-03\n",
            " -2.51525451e-03  7.72071811e+01  2.16066117e-02  5.36445673e-02\n",
            "  9.43571494e+01  5.84129787e+01  8.16525139e-03  3.25212860e+01\n",
            "  3.65396980e+01  1.26713427e-02 -1.24882842e-01 -2.93855605e-02\n",
            " -7.95900481e-03  2.72781071e+01 -1.02826179e-01  7.22987630e+01], error 33.86617117619581\n",
            "Iter: 2500, weights: [ 7.96502178e+00  9.59914494e+00  2.98684857e-02  1.76856379e-03\n",
            " -4.11815047e-03  7.80748968e+01  1.00435142e-04  1.33429789e-02\n",
            "  9.54431870e+01  5.90991555e+01  9.71861307e-03  3.28610673e+01\n",
            "  3.69465182e+01  4.14783349e-02 -7.84017365e-02 -2.59888310e-02\n",
            " -1.59642353e-02  2.76243406e+01 -5.40531885e-02  7.31256579e+01], error 26.223438202045827\n",
            "Iter: 3000, weights: [ 8.00560740e+00  9.63572791e+00  2.06877931e-02  1.93835595e-03\n",
            " -5.15462635e-03  7.83899885e+01 -9.37089473e-03 -6.06272240e-03\n",
            "  9.58401789e+01  5.93503202e+01  1.01389091e-02  3.29822933e+01\n",
            "  3.70922438e+01  5.47505457e-02 -5.74723892e-02 -2.38446813e-02\n",
            " -1.93591184e-02  2.77521031e+01 -3.38016855e-02  7.34278941e+01], error 25.206080264557112\n",
            "Iter: 3500, weights: [ 8.02159711e+00  9.64901452e+00  1.73687499e-02  1.24542360e-03\n",
            " -5.72718512e-03  7.85044181e+01 -1.34214347e-02 -1.48727119e-02\n",
            "  9.59853357e+01  5.94422647e+01  1.02439119e-02  3.30255445e+01\n",
            "  3.71444410e+01  6.06289354e-02 -4.83578178e-02 -2.27224075e-02\n",
            " -2.07701231e-02  2.77992404e+01 -2.55212945e-02  7.35383777e+01], error 25.070549522819114\n",
            "Iter: 4000, weights: [ 8.02786387e+00  9.65384084e+00  1.61735878e-02  7.19097286e-04\n",
            " -6.01790192e-03  7.85459788e+01 -1.51170736e-02 -1.87237185e-02\n",
            "  9.60384257e+01  5.94759266e+01  1.02664763e-02  3.30409760e+01\n",
            "  3.71631364e+01  6.31622513e-02 -4.44815946e-02 -2.21851819e-02\n",
            " -2.13475380e-02  2.78166287e+01 -2.21764269e-02  7.35787705e+01], error 25.05248009060938\n",
            "Iter: 4500, weights: [ 8.03030892e+00  9.65559428e+00  1.57449684e-02  4.27937135e-04\n",
            " -6.15783020e-03  7.85610751e+01 -1.58154504e-02 -2.03631888e-02\n",
            "  9.60578483e+01  5.94882519e+01  1.02696683e-02  3.30464819e+01\n",
            "  3.71698321e+01  6.42322700e-02 -4.28620895e-02 -2.19411541e-02\n",
            " -2.15809262e-02  2.78230420e+01 -2.08384284e-02  7.35935400e+01], error 25.050069089469226\n",
            "Final MSE: 25.04974713092538\n",
            "CPU times: user 1min 9s, sys: 25.3 s, total: 1min 35s\n",
            "Wall time: 48.9 s\n"
          ]
        }
      ]
    },
    {
      "cell_type": "code",
      "source": [
        "errors_sgd = []\n",
        "# стохастический градиентный спуск\n",
        "def stohastic_gradient_descent(X, y, iterations, size, eta):\n",
        "    W = np.random.randn(X.shape[1])\n",
        "    n = X.shape[0]\n",
        "    errors = []\n",
        "    w_list = [W.copy()]\n",
        "        \n",
        "    for i in range(0, iterations):\n",
        "        train_ind = np.random.randint(X.shape[0], size=size)\n",
        "            \n",
        "        y_pred = np.dot(X[train_ind], W)\n",
        "            \n",
        "        W = W - eta * 2 / y[train_ind].shape[0] * np.dot(X[train_ind].T, y_pred - y[train_ind])\n",
        "        \n",
        "        err= calc_mse(y, np.dot(X, W))\n",
        "        errors_sgd.append(err)\n",
        "        w_list.append(W)\n",
        "\n",
        "        if i % (iterations / 10) == 0:\n",
        "            print(f'Iter: {i}, weights: {W}, error {err}')\n",
        "    \n",
        "    print(f'Final MSE: {calc_mse(y, np.dot(X, W))}')\n",
        "    return W, errors, w_list"
      ],
      "metadata": {
        "id": "UINq2bZOSD2P"
      },
      "execution_count": 829,
      "outputs": []
    },
    {
      "cell_type": "code",
      "source": [
        "%%time\n",
        "weights_SGD, errors_SGD, w_list_SGD = stohastic_gradient_descent(X, y, iterations=5000, eta=1e-3, size=1)"
      ],
      "metadata": {
        "colab": {
          "base_uri": "https://localhost:8080/"
        },
        "id": "54dG31mpW76d",
        "outputId": "4e6edfea-08b5-47dc-dda5-d620f1c344bd"
      },
      "execution_count": 830,
      "outputs": [
        {
          "output_type": "stream",
          "name": "stdout",
          "text": [
            "Iter: 0, weights: [-0.69338002 -0.07415762 -0.39935805  0.90050524 -1.1057724   0.61949701\n",
            " -0.6362815  -0.68036449  0.35665482  0.58033599 -0.70804694  0.46703597\n",
            " -0.26490214  0.54171026 -0.24635171 -0.39114323 -0.03210278 -0.11145437\n",
            "  0.73570815  0.79880901], error 27692.736582959165\n",
            "Iter: 500, weights: [-4.92897173e-01  7.39788070e+00  1.76876033e+00 -3.21312910e+00\n",
            " -1.92728990e-02  4.85354229e+01 -3.48741783e+00 -1.45497740e+00\n",
            "  6.33675155e+01  3.84066467e+01  3.56430279e-01  2.10613554e+01\n",
            "  2.77030702e+01 -6.34070023e-01 -2.54797658e+00 -5.57957554e+00\n",
            " -1.81526405e+00  2.13358643e+01 -3.60103848e+00  4.77539428e+01], error 3569.0886732861404\n",
            "Iter: 1000, weights: [ 3.54157087e+00  9.82890800e+00  3.29810775e+00 -1.65525073e+00\n",
            " -8.25674971e-01  6.74751211e+01 -1.75605420e+00 -1.30667964e+00\n",
            "  8.26495380e+01  5.18221415e+01  4.07500089e-01  2.81251142e+01\n",
            "  3.39585901e+01  4.86703388e-01 -1.27563659e+00 -2.62657611e+00\n",
            " -6.46363076e-01  2.61411330e+01 -3.08905684e-02  6.31432215e+01], error 586.1491291856846\n",
            "Iter: 1500, weights: [ 6.00220892e+00  1.05247946e+01  1.47544993e+00 -1.10128318e+00\n",
            " -9.38896339e-01  7.48820639e+01 -9.23725229e-01 -7.94321367e-01\n",
            "  9.17880978e+01  5.67241593e+01 -6.26980680e-01  3.03284545e+01\n",
            "  3.55748391e+01 -6.52288782e-02 -4.26415130e-01 -4.05543066e-01\n",
            " -5.99110581e-01  2.73531965e+01  5.45621913e-01  6.93038366e+01], error 105.7913923403142\n",
            "Iter: 2000, weights: [ 7.47714984e+00  9.91818204e+00  8.24301732e-01  3.27835981e-02\n",
            " -4.31151995e-01  7.72522537e+01 -2.20021500e-01 -4.62446614e-01\n",
            "  9.49787322e+01  5.85358230e+01 -2.63722589e-01  3.23698180e+01\n",
            "  3.62316396e+01 -1.84506486e-02  5.87569209e-02 -7.60584539e-01\n",
            " -1.80100556e-02  2.77394534e+01  2.88422772e-01  7.20668296e+01], error 34.86785630252075\n",
            "Iter: 2500, weights: [ 7.56040225e+00  9.82953811e+00  2.26750606e-01 -2.60471106e-02\n",
            " -2.31381154e-01  7.82775487e+01 -6.67068334e-05 -3.21623510e-01\n",
            "  9.56934849e+01  5.92449579e+01  3.07564300e-01  3.29148965e+01\n",
            "  3.68324225e+01 -3.47221377e-01 -2.68450761e-01 -1.81981275e-01\n",
            "  2.25076868e-01  2.77767738e+01  1.79040578e-01  7.32159372e+01], error 26.497036732118808\n",
            "Iter: 3000, weights: [ 7.83104162e+00  1.00677555e+01  3.26886813e-01  1.77802521e-01\n",
            "  4.48475351e-02  7.85757984e+01  2.95869404e-01  5.84905133e-02\n",
            "  9.59928007e+01  5.94049256e+01  2.43247937e-01  3.27004176e+01\n",
            "  3.69629072e+01 -1.62392637e-01 -1.11171573e-03 -2.10598392e-01\n",
            "  6.56600741e-03  2.78505590e+01 -2.76045582e-02  7.33269455e+01], error 25.893988444868214\n",
            "Iter: 3500, weights: [ 8.13593242e+00  9.90543219e+00  1.59676175e-01  7.06651182e-02\n",
            "  1.04838428e-01  7.87336360e+01  1.56058957e-01 -1.03417091e-01\n",
            "  9.61815216e+01  5.94108698e+01  2.64910670e-01  3.30840632e+01\n",
            "  3.71878169e+01  1.06928069e-02  7.38723974e-02 -6.18988803e-02\n",
            " -1.93294192e-01  2.77435431e+01  1.01638562e-02  7.34941230e+01], error 25.373980772561474\n",
            "Iter: 4000, weights: [ 8.06470758e+00  9.70726756e+00  2.72580205e-01 -6.13209017e-02\n",
            "  1.09495596e-01  7.85754476e+01  1.20202721e-01 -3.79383234e-01\n",
            "  9.61682478e+01  5.96628242e+01  1.98646884e-01  3.29003690e+01\n",
            "  3.70164612e+01  3.31874787e-02 -1.19268688e-01 -9.61243986e-02\n",
            " -1.33649132e-01  2.79057444e+01 -1.67639811e-01  7.36830241e+01], error 25.46118896877214\n",
            "Iter: 4500, weights: [ 8.02434943e+00  9.72936736e+00  1.59311423e-02  1.27083038e-01\n",
            "  1.38286395e-01  7.87222441e+01 -1.57608712e-01 -3.04448782e-01\n",
            "  9.59841908e+01  5.95991438e+01  8.07064738e-02  3.30406638e+01\n",
            "  3.72812359e+01  1.61790291e-01  3.06464464e-02  4.47638512e-02\n",
            " -3.39610942e-01  2.79732247e+01 -2.11781044e-01  7.34182303e+01], error 25.462394561776016\n",
            "Final MSE: 25.711938506584726\n",
            "CPU times: user 14.4 s, sys: 4.18 s, total: 18.6 s\n",
            "Wall time: 9.63 s\n"
          ]
        }
      ]
    },
    {
      "cell_type": "code",
      "source": [
        "plt.figure(figsize=(13, 6))\n",
        "\n",
        "plt.plot(range(len(errors_GD)), errors_GD, color='g', label='GD')\n",
        "plt.plot(range(len(errors_SGD)), errors_SGD, color='black', label='SGD')\n",
        "plt.title('MSE')\n",
        "plt.xlabel('Iteration number')\n",
        "plt.ylabel('MSE')\n",
        "plt.legend()"
      ],
      "metadata": {
        "colab": {
          "base_uri": "https://localhost:8080/",
          "height": 422
        },
        "id": "PgONvAmnZKnp",
        "outputId": "e837669c-7d7e-4c71-9794-54b006130906"
      },
      "execution_count": 839,
      "outputs": [
        {
          "output_type": "execute_result",
          "data": {
            "text/plain": [
              "<matplotlib.legend.Legend at 0x7f658b4f8fd0>"
            ]
          },
          "metadata": {},
          "execution_count": 839
        },
        {
          "output_type": "display_data",
          "data": {
            "image/png": "[encoded data removed]",
            "text/plain": [
              "<Figure size 936x432 with 1 Axes>"
            ]
          },
          "metadata": {
            "needs_background": "light"
          }
        }
      ]
    },
    {
      "cell_type": "markdown",
      "source": [
        "###Вывод: на больших наборах данных алгоритм SGD работает на много быстрее GD."
      ],
      "metadata": {
        "id": "bkreNC-INZQy"
      }
    }
  ]
}