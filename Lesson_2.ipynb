{
  "nbformat": 4,
  "nbformat_minor": 0,
  "metadata": {
    "colab": {
      "name": "Lesson_2.ipynb",
      "provenance": [],
      "collapsed_sections": [],
      "authorship_tag": "ABX9TyMoWMdoTj5gaQcpmJXB41Eb",
      "include_colab_link": true
    },
    "kernelspec": {
      "name": "python3",
      "display_name": "Python 3"
    },
    "language_info": {
      "name": "python"
    }
  },
  "cells": [
    {
      "cell_type": "markdown",
      "metadata": {
        "id": "view-in-github",
        "colab_type": "text"
      },
      "source": [
        "<a href=\"https://colab.research.google.com/github/VVdovichev/Data_analysis_algorithms/blob/main/Lesson_2.ipynb\" target=\"_parent\"><img src=\"https://colab.research.google.com/assets/colab-badge.svg\" alt=\"Open In Colab\"/></a>"
      ]
    },
    {
      "cell_type": "code",
      "source": [
        "import numpy as np\n",
        "import matplotlib.pyplot as plt\n",
        "import seaborn as sns\n",
        "from sklearn.datasets import make_regression"
      ],
      "metadata": {
        "id": "2ruicjcEw9Zy"
      },
      "execution_count": 295,
      "outputs": []
    },
    {
      "cell_type": "code",
      "source": [
        "def calc_mse(y, y_pred):\n",
        "    err = np.mean((y - y_pred)**2)\n",
        "    return err"
      ],
      "metadata": {
        "id": "jLKJF_QrxsRA"
      },
      "execution_count": 296,
      "outputs": []
    },
    {
      "cell_type": "code",
      "source": [
        "def standard_scale(X):\n",
        "    mean = X.mean()\n",
        "    std = X.std()\n",
        "    return (X - mean) / std"
      ],
      "metadata": {
        "id": "kqpD4d6SyCmN"
      },
      "execution_count": 297,
      "outputs": []
    },
    {
      "cell_type": "code",
      "source": [
        "def gradient_descent_reg_l2(X, y, iterations, eta=1e-4, reg=1e-8):\n",
        "    W = np.random.randn(X.shape[1])\n",
        "    n = X.shape[0]\n",
        "    \n",
        "    for i in range(0, iterations):\n",
        "        y_pred = np.dot(X, W)\n",
        "        err = calc_mse(y, y_pred)\n",
        "        \n",
        "        dQ = 2/n * X.T @ (y_pred - y) # градиент функции ошибки\n",
        "        dReg = reg * W # градиент регуляризации\n",
        "        \n",
        "        W -= eta * (dQ + dReg)\n",
        "        \n",
        "        if i % (iterations / 10) == 0:\n",
        "            print(f'Iter: {i}, weights: {W}, error {err}')\n",
        "    \n",
        "    print(f'Final MSE: {calc_mse(y, np.dot(X, W))}')\n",
        "    return W"
      ],
      "metadata": {
        "id": "2Y8ETPaqxrMy"
      },
      "execution_count": 298,
      "outputs": []
    },
    {
      "cell_type": "markdown",
      "source": [
        "__1.__Постройте график зависимости весов всех признаков от lambda в самописной L2-регуляризации (на данных про ЕГЭ). Сделайте вывод."
      ],
      "metadata": {
        "id": "djFpxodKvxU_"
      }
    },
    {
      "cell_type": "code",
      "execution_count": 299,
      "metadata": {
        "id": "pSZoDTZCvqMh"
      },
      "outputs": [],
      "source": [
        "X = np.array([[   1,    1,  500,    1],\n",
        "              [   1,    1,  700,    1],\n",
        "              [   1,    2,  750,    2],\n",
        "              [   1,    5,  600,    1],\n",
        "              [   1,    3, 1450,    2],\n",
        "              [   1,    0,  800,    1],\n",
        "              [   1,    5, 1500,    3],\n",
        "              [   1,   10, 2000,    3],\n",
        "              [   1,    1,  450,    1],\n",
        "              [   1,    2, 1000,    2]])\n",
        "\n",
        "y = [45, 55, 50, 55, 60, 35, 75, 80, 50, 60]"
      ]
    },
    {
      "cell_type": "code",
      "source": [
        "# Масштабирование\n",
        "X_st = X.copy().astype(np.float64)\n",
        "X_st[:, 1] = standard_scale(X_st[:, 1])\n",
        "X_st[:, 2] = standard_scale(X_st[:, 2])\n",
        "X_st[:, 3] = standard_scale(X_st[:, 3])\n",
        "\n",
        "X_st"
      ],
      "metadata": {
        "colab": {
          "base_uri": "https://localhost:8080/"
        },
        "id": "hCj2-pYQyonQ",
        "outputId": "53b108d6-5e27-4340-bdab-c5ca037b7e8f"
      },
      "execution_count": 300,
      "outputs": [
        {
          "output_type": "execute_result",
          "data": {
            "text/plain": [
              "array([[ 1.        , -0.70710678, -0.97958969, -0.89625816],\n",
              "       [ 1.        , -0.70710678, -0.56713087, -0.89625816],\n",
              "       [ 1.        , -0.35355339, -0.46401617,  0.38411064],\n",
              "       [ 1.        ,  0.70710678, -0.77336028, -0.89625816],\n",
              "       [ 1.        ,  0.        ,  0.97958969,  0.38411064],\n",
              "       [ 1.        , -1.06066017, -0.36090146, -0.89625816],\n",
              "       [ 1.        ,  0.70710678,  1.08270439,  1.66447944],\n",
              "       [ 1.        ,  2.47487373,  2.11385144,  1.66447944],\n",
              "       [ 1.        , -0.70710678, -1.08270439, -0.89625816],\n",
              "       [ 1.        , -0.35355339,  0.05155735,  0.38411064]])"
            ]
          },
          "metadata": {},
          "execution_count": 300
        }
      ]
    },
    {
      "cell_type": "code",
      "source": [
        "lambda_ = [1e-8, 1e-7, 1e-6, 1e-5, 1e-4, 1e-3, 1e-2, 1e-1, 1, 1e+1, 1e+2]\n",
        "\n",
        "dict_w = {}\n",
        "\n",
        "for i in lambda_:\n",
        "    dict_w[i] = gradient_descent_reg_l2(X_st, y, iterations=10000, reg=i)"
      ],
      "metadata": {
        "colab": {
          "base_uri": "https://localhost:8080/"
        },
        "id": "aMvU8RFa0T4V",
        "outputId": "d9606623-f829-4376-f095-ef05afc033fe"
      },
      "execution_count": 301,
      "outputs": [
        {
          "output_type": "stream",
          "name": "stdout",
          "text": [
            "Iter: 0, weights: [ 0.01774984  0.26471356 -0.43544302 -0.94723932], error 3377.16289307496\n",
            "Iter: 1000, weights: [10.25716978  2.07883963  1.3387147   0.92759131], error 2223.047677282551\n",
            "Iter: 2000, weights: [18.64033008  3.18073461  2.35436387  2.05854573], error 1481.6565072210574\n",
            "Iter: 3000, weights: [25.50374393  3.8582672   2.92024389  2.74750595], error 996.0529484229261\n",
            "Iter: 4000, weights: [31.12291951  4.28256432  3.21979408  3.17384324], error 674.537456395529\n",
            "Iter: 5000, weights: [35.72341934  4.55537492  3.36199458  3.44412785], error 460.40960766219297\n",
            "Iter: 6000, weights: [39.48991469  4.73721657  3.41157885  3.62166924], error 317.3461865489553\n",
            "Iter: 7000, weights: [42.57359857  4.86410185  3.40698768  3.74407038], error 221.5941422201955\n",
            "Iter: 8000, weights: [45.0982549   4.95747833  3.37103831  3.83365954], error 157.4417178166428\n",
            "Iter: 9000, weights: [47.16522733  5.03013565  3.31726465  3.90368923], error 114.43143834476673\n",
            "Final MSE: 85.5798067199265\n",
            "Iter: 0, weights: [-0.07183848  0.83547173 -0.39504778 -0.53019797], error 3364.0959469280947\n",
            "Iter: 1000, weights: [10.18382248  2.50608577  1.24682297  1.21004334], error 2221.3595737780643\n",
            "Iter: 2000, weights: [18.58027947  3.51835892  2.18700565  2.26193356], error 1482.943733366001\n",
            "Iter: 3000, weights: [25.45457945  4.1385293   2.7110753   2.90471421], error 997.6959835439004\n",
            "Iter: 4000, weights: [31.08266762  4.52485642  2.98871054  3.30430993], error 675.8442818080857\n",
            "Iter: 5000, weights: [35.69046426  4.77143028  3.12071876  3.55930738], error 461.2917837443595\n",
            "Iter: 6000, weights: [39.46293358  4.93420525  3.1669811   3.72827836], error 317.8767646744585\n",
            "Iter: 7000, weights: [42.55150842  5.04647115  3.16305898  3.84601684], error 221.8685976846209\n",
            "Iter: 8000, weights: [45.08016902  5.12804706  3.13006252  3.93318766], error 157.54026760607292\n",
            "Iter: 9000, weights: [47.15041978  5.19074501  3.0805149   4.00206043], error 114.41339232198717\n",
            "Final MSE: 85.486704492906\n",
            "Iter: 0, weights: [ 0.18461191 -0.48346832 -0.60188908 -2.25719176], error 3415.149465679181\n",
            "Iter: 1000, weights: [10.39378165  1.61522479  1.46941047 -0.06758359], error 2231.065499010759\n",
            "Iter: 2000, weights: [18.75217484  2.88546879  2.65735639  1.25552967], error 1481.0395074233604\n",
            "Iter: 3000, weights: [25.59531084  3.66236805  3.32140907  2.06363722], error 993.6863894482834\n",
            "Iter: 4000, weights: [31.19788409  4.14511413  3.67514894  2.56559505], error 672.4182224545004\n",
            "Iter: 5000, weights: [35.7847909   4.45212856  3.84546751  2.88549995], error 458.9517674917921\n",
            "Iter: 6000, weights: [39.54015707  4.65383185  3.90774191  3.09708148], error 316.5010201324336\n",
            "Iter: 7000, weights: [42.61472904  4.79211703  3.90673766  3.24413943], error 221.21395976281892\n",
            "Iter: 8000, weights: [45.13192506  4.89192192  3.86903015  3.35268897], error 157.38708416971136\n",
            "Iter: 9000, weights: [47.19278943  4.9681063   3.81038618  3.43817779], error 114.59479052555398\n",
            "Final MSE: 85.8842434659239\n",
            "Iter: 0, weights: [-0.2285092   0.00818033 -0.38190102  0.24991199], error 3382.2280309751304\n",
            "Iter: 1000, weights: [10.0555492   1.72787263  1.24862094  1.95283893], error 2233.6310703961026\n",
            "Iter: 2000, weights: [18.47524724  2.78659921  2.17856858  2.96965002], error 1491.247112464247\n",
            "Iter: 3000, weights: [25.36856818  3.45065238  2.69334392  3.57935897], error 1003.3169555018333\n",
            "Iter: 4000, weights: [31.01222349  3.87838225  2.96250496  3.94771705], error 679.6518037046607\n",
            "Iter: 5000, weights: [35.63276061  4.16398768  3.08677078  4.1731722 ], error 463.8718106623354\n",
            "Iter: 6000, weights: [39.41565699  4.36353969  3.12595442  4.31418013], error 319.62416611029664\n",
            "Iter: 7000, weights: [42.51276554  4.51044633  3.11556214  4.40543408], error 223.04957452703056\n",
            "Iter: 8000, weights: [45.0484103   4.62464308  3.07665751  4.46750915], error 158.33448155639195\n",
            "Iter: 9000, weights: [47.12437705  4.7180546   3.0217231   4.5125934 ], error 114.94231541592471\n",
            "Final MSE: 85.83266804223727\n",
            "Iter: 0, weights: [ 0.22081282 -0.42788029 -0.66894339 -0.25795866], error 3359.4242136563103\n",
            "Iter: 1000, weights: [10.42336909  1.45258129  1.12962616  1.61366146], error 2209.5900675015087\n",
            "Iter: 2000, weights: [18.77626504  2.6073804   2.15831764  2.73132595], error 1472.0817518794206\n",
            "Iter: 3000, weights: [25.61483263  3.32903965  2.73068345  3.40157353], error 989.4330568326668\n",
            "Iter: 4000, weights: [31.21361024  3.79149632  3.03300773  3.80651038], error 670.0172802525755\n",
            "Iter: 5000, weights: [35.79736411  4.09821231  3.17594736  4.05430211], error 457.33409500874075\n",
            "Iter: 6000, weights: [39.55011176  4.31076377  3.22521973  4.20917838], error 315.2479120083307\n",
            "Iter: 7000, weights: [42.62250949  4.46583092  3.2198387   4.30926295], error 220.15036834552447\n",
            "Iter: 8000, weights: [45.13790052  4.58529456  3.1829514   4.37716913], error 156.43336374339782\n",
            "Iter: 9000, weights: [47.19726672  4.68223617  3.12827779  4.42629583], error 113.71122745468445\n",
            "Final MSE: 85.0493677607586\n",
            "Iter: 0, weights: [ 0.65069789  1.59040448  0.21230899 -1.17997254], error 3268.8980838018374\n",
            "Iter: 1000, weights: [10.77482552  3.13534345  1.75725124  0.49864061], error 2162.451069567004\n",
            "Iter: 2000, weights: [19.06276537  4.06067604  2.63937925  1.52576984], error 1445.4073469215593\n",
            "Iter: 3000, weights: [25.84754222  4.61769503  3.12839194  2.16518338], error 973.4417138046862\n",
            "Iter: 4000, weights: [31.40178101  4.95572067  3.38452904  2.57362409], error 660.1172777266935\n",
            "Iter: 5000, weights: [35.94866135  5.16348136  3.50299019  2.84424035], error 451.1372457321004\n",
            "Iter: 6000, weights: [39.67088534  5.29370194  3.54032865  3.03239264], error 311.39458904052077\n",
            "Iter: 7000, weights: [42.71801885  5.37771395  3.53013441  3.17098766], error 217.8132156371561\n",
            "Iter: 8000, weights: [45.21250134  5.4341371   3.492353    3.27958995], error 155.0870399371654\n",
            "Iter: 9000, weights: [47.25456577  5.47403765  3.43882271  3.36983588], error 113.01392198449238\n",
            "Final MSE: 84.77584685082341\n",
            "Iter: 0, weights: [-1.64824192  0.12600219  0.07487995  0.65447181], error 3525.168555285708\n",
            "Iter: 1000, weights: [8.88960245 1.72715171 1.5619302  2.21506772], error 2336.4212142934957\n",
            "Iter: 2000, weights: [17.50846224  2.71832452  2.40425643  3.14422424], error 1563.5042226127675\n",
            "Iter: 3000, weights: [24.55779238  3.34522929  2.86509597  3.69927442], error 1053.8752489595768\n",
            "Iter: 4000, weights: [30.32341066  3.75385485  3.10067261  4.03292375], error 715.2044638695991\n",
            "Iter: 5000, weights: [35.03908625  4.03098314  3.20368265  4.23576835], error 489.13771646790775\n",
            "Iter: 6000, weights: [38.89601801  4.22824061  3.22911082  4.36153621], error 337.82964104391533\n",
            "Iter: 7000, weights: [42.05058672  4.37637703  3.20955606  4.44207173], error 236.3740295049935\n",
            "Iter: 8000, weights: [44.63069555  4.49374269  3.16432982  4.49623128], error 168.24697483016544\n",
            "Iter: 9000, weights: [46.740956    4.59132122  3.10485718  4.53516388], error 122.4369139906265\n",
            "Final MSE: 91.587393592171\n",
            "Iter: 0, weights: [-0.9739225  -0.39261732 -0.84411322 -1.39541199], error 3527.5414383563357\n",
            "Iter: 1000, weights: [9.40390458 1.61949386 1.13301696 0.68176122], error 2316.1283193764357\n",
            "Iter: 2000, weights: [17.81582221  2.82861684  2.25638756  1.92048936], error 1550.0292832656974\n",
            "Iter: 3000, weights: [24.63423975  3.56387592  2.87886243  2.66585352], error 1053.038897633783\n",
            "Iter: 4000, weights: [30.16101971  4.01899646  3.20798949  3.12085265], error 725.4730539030668\n",
            "Iter: 5000, weights: [34.64084168  4.30803747  3.36582401  3.40489568], error 507.2694187631172\n",
            "Iter: 6000, weights: [38.27203471  4.49818165  3.4241249   3.58821461], error 360.7342640484957\n",
            "Iter: 7000, weights: [41.21535767  4.62902754  3.42506208  3.71211095], error 261.62258584227646\n",
            "Iter: 8000, weights: [43.60111627  4.72394015  3.39339922  3.80086729], error 194.11031429294366\n",
            "Iter: 9000, weights: [45.53493197  4.79672935  3.34366137  3.86875529], error 147.77624410154266\n",
            "Final MSE: 115.71536173559987\n",
            "Iter: 0, weights: [-0.73069909 -0.02409266  0.54843594  0.13355118], error 3423.6455398863873\n",
            "Iter: 1000, weights: [9.22247876 1.5362979  1.93781508 1.65130657], error 2309.8215400691633\n",
            "Iter: 2000, weights: [16.5956424   2.41791375  2.63616123  2.47654258], error 1641.5787507265297\n",
            "Iter: 3000, weights: [22.05757053  2.92855589  2.96884955  2.92912996], error 1225.852548282626\n",
            "Iter: 4000, weights: [26.10368429  3.23457679  3.11010315  3.18097969], error 959.4297583527745\n",
            "Iter: 5000, weights: [29.10098418  3.42615295  3.15296447  3.32447317], error 784.2833191073933\n",
            "Iter: 6000, weights: [31.32133861  3.55239807  3.14690576  3.40925018], error 666.5538359453502\n",
            "Iter: 7000, weights: [32.9661436   3.64025756  3.11804137  3.46198471], error 585.8800606127281\n",
            "Iter: 8000, weights: [34.18459026  3.70468064  3.07998679  3.4970144 ], error 529.6860292341217\n",
            "Iter: 9000, weights: [35.08719712  3.75410062  3.03968966  3.52205296], error 490.0071011884114\n",
            "Final MSE: 461.6775258627018\n",
            "Iter: 0, weights: [ 0.4360022  -2.05288654 -0.29929934  0.72130554], error 3343.0211528409914\n",
            "Iter: 1000, weights: [6.71369091 0.47305127 1.02203798 1.43429988], error 2584.382333997913\n",
            "Iter: 2000, weights: [8.60313244 1.16319784 1.2832258  1.4860519 ], error 2383.8740133697406\n",
            "Iter: 3000, weights: [9.17181137 1.36186385 1.33101618 1.46113504], error 2326.40823481465\n",
            "Iter: 4000, weights: [9.34297079 1.42184625 1.33833307 1.44307256], error 2309.5013018562086\n",
            "Iter: 5000, weights: [9.39448588 1.44069003 1.33888062 1.4347292 ], error 2304.477627089416\n",
            "Iter: 6000, weights: [9.40999076 1.44679347 1.33864731 1.43137374], error 2302.9778876014007\n",
            "Iter: 7000, weights: [9.41465737 1.44881448 1.33847807 1.43010632], error 2302.528942932614\n",
            "Iter: 8000, weights: [9.41606191 1.44949399 1.33840156 1.42964309], error 2302.394309228929\n",
            "Iter: 9000, weights: [9.41648465 1.44972479 1.33837166 1.42947689], error 2302.3538820114127\n",
            "Final MSE: 2302.3417310810355\n",
            "Iter: 0, weights: [-0.29827159 -1.69314117 -1.31601715 -0.02476072], error 3461.7154250203166\n",
            "Iter: 1000, weights: [1.10779354 0.2054147  0.197916   0.20577208], error 3215.852566063221\n",
            "Iter: 2000, weights: [1.10784314 0.20547419 0.19795963 0.20576234], error 3215.845109200705\n",
            "Iter: 3000, weights: [1.10784314 0.20547419 0.19795963 0.20576233], error 3215.8451089561113\n",
            "Iter: 4000, weights: [1.10784314 0.20547419 0.19795963 0.20576233], error 3215.8451089561045\n",
            "Iter: 5000, weights: [1.10784314 0.20547419 0.19795963 0.20576233], error 3215.8451089561045\n",
            "Iter: 6000, weights: [1.10784314 0.20547419 0.19795963 0.20576233], error 3215.8451089561045\n",
            "Iter: 7000, weights: [1.10784314 0.20547419 0.19795963 0.20576233], error 3215.8451089561045\n",
            "Iter: 8000, weights: [1.10784314 0.20547419 0.19795963 0.20576233], error 3215.8451089561045\n",
            "Iter: 9000, weights: [1.10784314 0.20547419 0.19795963 0.20576233], error 3215.8451089561045\n",
            "Final MSE: 3215.8451089561045\n"
          ]
        }
      ]
    },
    {
      "cell_type": "code",
      "source": [
        "dict_w"
      ],
      "metadata": {
        "colab": {
          "base_uri": "https://localhost:8080/"
        },
        "id": "0k46I48K1VKi",
        "outputId": "98dcba32-6378-44b3-ceb7-c4a4b95335d4"
      },
      "execution_count": 302,
      "outputs": [
        {
          "output_type": "execute_result",
          "data": {
            "text/plain": [
              "{1e-08: array([48.85595856,  5.08966116,  3.25375163,  3.96196576]),\n",
              " 1e-07: array([48.84383259,  5.24157033,  3.0218989 ,  4.05986281]),\n",
              " 1e-06: array([48.87852425,  5.02948273,  3.74022436,  3.50970825]),\n",
              " 1e-05: array([48.8224637 ,  4.79776608,  2.95821001,  4.5478614 ]),\n",
              " 0.0001: array([48.88175941,  4.76442706,  3.06400473,  4.4645343 ]),\n",
              " 0.001: array([48.9247559 ,  5.50396719,  3.37662988,  3.44857606]),\n",
              " 0.01: array([48.46537093,  4.67563854,  3.03795253,  4.56541865]),\n",
              " 0.1: array([47.10100915,  4.85552557,  3.28441395,  3.92410752]),\n",
              " 1: array([35.75526121,  3.79335572,  3.00059637,  3.54124215]),\n",
              " 10.0: array([9.41661182, 1.44980367, 1.33836076, 1.42941794]),\n",
              " 100.0: array([1.10784314, 0.20547419, 0.19795963, 0.20576233])}"
            ]
          },
          "metadata": {},
          "execution_count": 302
        }
      ]
    },
    {
      "cell_type": "code",
      "source": [
        "plt.figure(figsize=(16, 6))\n",
        "\n",
        "list_x = []\n",
        "list_y = []\n",
        "\n",
        "for i in range(len(dict_w)):\n",
        "    list_x.append(list(dict_w.values())[i][0])\n",
        "    list_y.append(list(dict_w.keys())[i])\n",
        "\n",
        "sns.barplot(x=list_x, y=list_y, orient='h')\n",
        "plt.title('Feature_1', fontsize=30)\n",
        "plt.xlabel('Weight')\n",
        "plt.ylabel('Eta')\n",
        "plt.show()"
      ],
      "metadata": {
        "colab": {
          "base_uri": "https://localhost:8080/",
          "height": 417
        },
        "id": "IGUo4FPbzqV1",
        "outputId": "8ae3f674-cb2c-4779-dcf0-d4bc33aeb6ee"
      },
      "execution_count": 303,
      "outputs": [
        {
          "output_type": "display_data",
          "data": {
            "image/png": "[encoded data removed]",
            "text/plain": [
              "<Figure size 1152x432 with 1 Axes>"
            ]
          },
          "metadata": {
            "needs_background": "light"
          }
        }
      ]
    },
    {
      "cell_type": "code",
      "source": [
        "plt.figure(figsize=(16, 6))\n",
        "\n",
        "list_x = []\n",
        "list_y = []\n",
        "\n",
        "for i in range(len(dict_w)):\n",
        "    list_x.append(list(dict_w.values())[i][1])\n",
        "    list_y.append(list(dict_w.keys())[i])\n",
        "\n",
        "sns.barplot(x=list_x, y=list_y, orient='h')\n",
        "plt.title('Feature_2', fontsize=30)\n",
        "plt.xlabel('Weight')\n",
        "plt.ylabel('Eta')\n",
        "plt.show()"
      ],
      "metadata": {
        "colab": {
          "base_uri": "https://localhost:8080/",
          "height": 417
        },
        "id": "58uaoVHTAJJ7",
        "outputId": "82a76369-fad0-4cd2-dbf4-1159fb0a7fca"
      },
      "execution_count": 304,
      "outputs": [
        {
          "output_type": "display_data",
          "data": {
            "image/png": "[encoded data removed]",
            "text/plain": [
              "<Figure size 1152x432 with 1 Axes>"
            ]
          },
          "metadata": {
            "needs_background": "light"
          }
        }
      ]
    },
    {
      "cell_type": "code",
      "source": [
        "plt.figure(figsize=(16, 6))\n",
        "\n",
        "list_x = []\n",
        "list_y = []\n",
        "\n",
        "for i in range(len(dict_w)):\n",
        "    list_x.append(list(dict_w.values())[i][2])\n",
        "    list_y.append(list(dict_w.keys())[i])\n",
        "\n",
        "sns.barplot(x=list_x, y=list_y, orient='h')\n",
        "plt.title('Feature_3', fontsize=30)\n",
        "plt.xlabel('Weight')\n",
        "plt.ylabel('Eta')\n",
        "plt.show()"
      ],
      "metadata": {
        "colab": {
          "base_uri": "https://localhost:8080/",
          "height": 417
        },
        "id": "1RU58lCoFFgb",
        "outputId": "c7004f07-adf5-4bc4-e891-4e283af32e04"
      },
      "execution_count": 305,
      "outputs": [
        {
          "output_type": "display_data",
          "data": {
            "image/png": "[encoded data removed]",
            "text/plain": [
              "<Figure size 1152x432 with 1 Axes>"
            ]
          },
          "metadata": {
            "needs_background": "light"
          }
        }
      ]
    },
    {
      "cell_type": "code",
      "source": [
        "plt.figure(figsize=(16, 6))\n",
        "\n",
        "list_x = []\n",
        "list_y = []\n",
        "\n",
        "for i in range(len(dict_w)):\n",
        "    list_x.append(list(dict_w.values())[i][3])\n",
        "    list_y.append(list(dict_w.keys())[i])\n",
        "\n",
        "sns.barplot(x=list_x, y=list_y, orient='h')\n",
        "plt.title('Feature_4', fontsize=30)\n",
        "plt.xlabel('Weight')\n",
        "plt.ylabel('Eta')\n",
        "plt.show()"
      ],
      "metadata": {
        "colab": {
          "base_uri": "https://localhost:8080/",
          "height": 417
        },
        "id": "G8w3PzW1FIeT",
        "outputId": "ddba510b-9251-4325-ad62-ac6aab6b7a26"
      },
      "execution_count": 306,
      "outputs": [
        {
          "output_type": "display_data",
          "data": {
            "image/png": "[encoded data removed]",
            "text/plain": [
              "<Figure size 1152x432 with 1 Axes>"
            ]
          },
          "metadata": {
            "needs_background": "light"
          }
        }
      ]
    },
    {
      "cell_type": "markdown",
      "source": [
        "Исходя из графиков можем сделать вывод: при увеличении L2-регуляризации, вес признаков уменьшается."
      ],
      "metadata": {
        "id": "xsR375JTFeTX"
      }
    },
    {
      "cell_type": "markdown",
      "source": [
        "__2.__Напишите функцию наподобие gradient_descent_reg_l2, но для применения L1-регуляризации."
      ],
      "metadata": {
        "id": "HLp2-HolGF6n"
      }
    },
    {
      "cell_type": "code",
      "source": [
        "def gradient_descent_reg_l1(X, y, iterations, eta=1e-4, reg=1e-8):\n",
        "    W = np.random.randn(X.shape[1])\n",
        "    n = X.shape[0]\n",
        "    \n",
        "    for i in range(0, iterations):\n",
        "        y_pred = np.dot(X, W)\n",
        "        err = calc_mse(y, y_pred)\n",
        "        \n",
        "        dQ = 2/n * X.T @ (y_pred - y) # градиент функции ошибки\n",
        "        dReg = reg * np.sign(W) # градиент регуляризации\n",
        "        \n",
        "        W -= eta * (dQ + dReg)\n",
        "        \n",
        "        if i % (iterations / 10) == 0:\n",
        "            print(f'Iter: {i}, weights: {W}, error {err}')\n",
        "    \n",
        "    print(f'Final MSE: {calc_mse(y, np.dot(X, W))}')\n",
        "    return W"
      ],
      "metadata": {
        "id": "pjI6kFoTGyLH"
      },
      "execution_count": 307,
      "outputs": []
    },
    {
      "cell_type": "markdown",
      "source": [
        "__3.__Можно ли к одному и тому же признаку применить сразу и нормализацию, и стандартизацию?"
      ],
      "metadata": {
        "id": "Tp1FDdnrM8Yc"
      }
    },
    {
      "cell_type": "markdown",
      "source": [
        "Можно, но думаю, что данные обработанные сразу двумя этими методами, будут плохо сказываться на качестве модели. "
      ],
      "metadata": {
        "id": "g7NbwQX1NBQK"
      }
    },
    {
      "cell_type": "markdown",
      "source": [
        "__4.__* Сгенерируйте датасет при помощи sklearn.datasets.make_regression и обучите линейную модель при помощи градиентного и стохастического градиентного спуска. Нанесите среднеквадратичную ошибку для обоих методов на один график, сделайте выводы о разнице скорости сходимости каждого из методов."
      ],
      "metadata": {
        "id": "_p7yDgSfPcY6"
      }
    },
    {
      "cell_type": "code",
      "source": [
        "iter_num = 0\n",
        "X, y, w_true = make_regression(n_samples=1000, n_features=2, n_informative=2, n_targets=1, \n",
        "                                      noise=5, coef=True, random_state=2)\n",
        "X, y, w_true"
      ],
      "metadata": {
        "colab": {
          "base_uri": "https://localhost:8080/"
        },
        "id": "TmoMDchBM8D1",
        "outputId": "1f2d6365-bd45-4fd0-b937-d4e08294d4aa"
      },
      "execution_count": 308,
      "outputs": [
        {
          "output_type": "execute_result",
          "data": {
            "text/plain": [
              "(array([[ 0.37879447, -0.61837549],\n",
              "        [-0.65293115, -1.06706712],\n",
              "        [-1.06581629, -0.34682333],\n",
              "        ...,\n",
              "        [ 1.19451016,  1.00147133],\n",
              "        [ 0.1256231 ,  0.35261274],\n",
              "        [-0.05674652,  0.41214611]]),\n",
              " array([-2.61123036e+01, -1.22254125e+02, -9.33701155e+01,  2.23698676e+01,\n",
              "        -1.19353069e+00,  7.55093913e+01,  4.17391914e+00,  3.37850492e+01,\n",
              "        -4.13327830e+01, -1.71060319e+00,  6.91533479e+01, -3.84944494e+01,\n",
              "        -1.40841311e+01, -7.87094871e+00,  2.24655412e+01,  3.52449558e+01,\n",
              "         3.54202311e+01,  4.54019343e+01,  3.93612257e+01,  1.13645719e-01,\n",
              "        -1.23294801e+01,  1.18940297e+02,  2.90747757e+02,  1.07353713e+01,\n",
              "         1.33621709e+02, -8.58105655e+01, -1.19323461e+01,  5.66776267e+01,\n",
              "         1.45867826e+02, -2.72626165e+02, -3.86689973e+00,  4.64700598e+01,\n",
              "         1.34844522e+02,  1.01167107e+01,  1.02407708e+01,  1.50555004e+01,\n",
              "         6.05940840e+01, -1.46615087e-01, -1.04571676e+02, -1.09697817e+02,\n",
              "         1.21274981e+01,  9.99648515e+01,  8.47610760e+01, -1.05265489e+02,\n",
              "         1.35034101e+02, -3.24978496e+02,  6.56243085e+01, -4.80030943e+01,\n",
              "         8.43343786e+01,  3.38914896e+00,  2.65015621e+01,  6.26227854e+01,\n",
              "        -1.45046490e+02,  5.99890287e+01, -4.29487922e+01, -6.21770636e+01,\n",
              "        -7.43718851e+01,  1.41640904e+01,  7.62513523e+01, -9.31185763e+01,\n",
              "        -4.63520375e+01,  4.29125963e+01, -9.66584329e+00,  8.93121009e+01,\n",
              "        -4.03193579e+01, -1.01379573e+02,  1.01841520e+02, -5.15662519e+01,\n",
              "        -4.52628857e+01, -1.87124862e+01, -9.12844792e+01,  3.59927570e+01,\n",
              "         6.17592461e+01,  2.22494640e+02,  1.32434204e+02, -3.60881053e+01,\n",
              "         6.22684440e+01,  1.17243754e+02, -7.81544631e+01, -1.15367499e+02,\n",
              "         2.07386737e+02, -1.05860234e+02,  1.85276901e+01, -1.28578014e+02,\n",
              "         3.16618174e+01,  4.66424452e+01, -1.25927975e+02,  3.92521273e+01,\n",
              "        -6.16557147e+01, -7.16591893e+01, -5.25599518e+01,  8.57629576e+01,\n",
              "         1.21017018e+02, -4.52865631e+01,  1.01235726e+02, -5.85374634e+01,\n",
              "         1.54127676e+02,  7.97155843e+01, -1.80370851e+02,  1.90235368e+01,\n",
              "         1.25097722e+00,  8.85002223e+01, -1.51621734e+02,  1.41323799e+02,\n",
              "         4.18851676e+01,  5.20369920e+01, -4.25228301e+01,  1.09583957e+02,\n",
              "        -7.91647431e+01, -4.74113606e+00, -2.52046023e+02, -2.69093444e+01,\n",
              "         5.19952741e+01, -8.64234670e+01, -5.25334656e-01, -6.78597223e+01,\n",
              "         1.17300246e+01,  6.97830260e+01, -5.55128430e+01, -1.49814920e+02,\n",
              "        -3.20406862e+01, -6.54315386e+01, -9.20757249e+00,  1.62937115e+02,\n",
              "        -6.42369455e+01,  2.13940023e+02, -1.90901395e+02, -9.77602152e+01,\n",
              "        -4.43268555e+01,  1.47342417e+01, -8.54881576e+01,  7.22014476e+00,\n",
              "         1.36013024e+02,  5.02397565e+01,  4.87812888e+01,  1.36143655e+01,\n",
              "         6.87647966e+01,  3.61672551e+01, -7.59032358e+01, -2.00121857e+02,\n",
              "         1.16208277e+01,  4.31042606e+01,  3.16115880e+01, -4.75901362e+01,\n",
              "        -1.29087233e+02, -5.53559217e+01,  1.50745846e+01,  1.70758154e+01,\n",
              "        -1.53630565e+02,  1.71958382e+01, -1.83512595e+02,  2.43362655e+01,\n",
              "        -4.50652116e+01, -2.92099620e+00,  1.23015030e+02, -1.11788567e+02,\n",
              "         8.50991008e+01, -1.46376768e+02,  3.27701445e+01, -2.93018471e+01,\n",
              "         4.69203461e+01,  1.08423413e+02, -6.13209350e+01,  4.94785289e+01,\n",
              "        -1.41109577e+02,  4.33054311e+01, -1.52549152e+02, -2.46530040e+01,\n",
              "        -1.00874101e+02,  3.38889732e+01, -1.23153355e+02,  2.17420651e+02,\n",
              "         5.46966513e+01,  4.06833605e+01,  1.16655415e+02,  1.47106932e+02,\n",
              "         2.81929267e+01, -1.11048654e+02,  7.80397611e+01, -3.49932950e+00,\n",
              "         9.91980807e+00,  7.16777443e+00,  9.55759488e+01,  1.06216158e+02,\n",
              "         1.54782642e+02, -2.26334446e+01, -7.82932490e+01,  1.73939404e+02,\n",
              "         1.75698853e+02, -4.76494719e+01, -1.27657625e+02, -5.11138947e+01,\n",
              "        -9.78206844e+00, -1.29280315e+02, -1.22503741e+02,  7.65780719e+01,\n",
              "        -2.11869965e+02,  3.06571220e+01, -7.66394137e+01, -1.24552588e+02,\n",
              "        -3.56285913e+01,  6.00062639e+01, -1.11473800e+02, -2.70266744e+00,\n",
              "        -6.21499474e+01,  1.28866824e+02,  3.57562503e+01, -1.63234454e+02,\n",
              "         1.83023392e+01, -1.37009065e+02, -4.88380133e+01, -1.61400354e+02,\n",
              "         2.58238176e+01, -1.71481525e+02,  7.17168100e+01, -1.51549918e+02,\n",
              "        -7.31412133e+01, -8.62281492e+01, -1.66868840e+01,  1.40935437e+02,\n",
              "         5.57925015e+01, -1.56402975e+02, -1.22790672e+02, -1.40778628e+02,\n",
              "        -7.18758210e+01, -6.87462711e+01, -1.38957317e+01, -1.73461298e+02,\n",
              "        -3.76770515e+01,  7.76924609e+01,  1.74823500e+02,  1.53499233e+02,\n",
              "        -3.31312744e+01,  7.71680849e+01, -8.79504754e+01, -3.24639116e+01,\n",
              "        -5.35527646e+01,  1.95842854e+02,  3.35714470e+00,  5.11947797e+01,\n",
              "         3.12736009e+01,  8.11437215e+01, -8.29488116e+01,  5.30395852e+01,\n",
              "        -2.77664212e+01, -4.38009254e+01,  3.43211816e+01,  7.56218288e+00,\n",
              "        -2.83344315e+01,  3.81263689e+01,  6.90682668e+01, -7.27304368e+01,\n",
              "        -1.94558174e+01, -7.94634380e+01,  2.19422785e+02, -6.32058902e+01,\n",
              "        -1.00445761e+02, -4.70053506e+01, -1.95597242e+01, -1.02558330e+02,\n",
              "        -1.00434144e+02,  1.39166519e+02, -1.37781213e+02,  2.10456615e+01,\n",
              "         1.53807527e+02,  4.82381452e+01,  9.19882759e+01,  8.86443171e+01,\n",
              "         3.36746742e+01, -7.15218367e+01, -6.79874189e+01,  3.58485159e+01,\n",
              "         1.14037947e+02,  5.88694911e+01,  2.89656802e+01, -1.92212573e+01,\n",
              "        -2.15755242e+02,  6.32586245e+01, -1.09385437e+02,  1.11195633e+02,\n",
              "         6.83161018e+01, -7.22547529e+01, -4.94899902e+01,  5.12699554e+01,\n",
              "        -5.64041836e+01, -3.49849293e+01,  7.51632837e+01, -1.06282835e+02,\n",
              "        -1.52944899e+02,  1.43720730e+02,  7.40856903e+01,  6.23607516e+01,\n",
              "         7.95378817e+00, -1.33696648e+02,  3.44960554e+01, -1.28476614e+01,\n",
              "         4.92297625e+01, -5.49095870e+01, -5.22363136e+01, -3.17464973e+01,\n",
              "         6.76710400e+01, -7.09109912e+00, -5.21825216e+01,  1.66279830e+02,\n",
              "        -7.70948273e+01, -5.28934618e+01,  1.14456807e+02,  5.97281267e+01,\n",
              "        -3.74767202e+01, -1.87988738e+01, -9.62567938e+01,  6.12507614e+01,\n",
              "         1.08598319e+02, -6.90957649e+01, -1.26634856e+02, -1.60658799e+01,\n",
              "         8.04013711e+01, -9.39713230e+01, -5.24077123e+01, -8.66848307e+01,\n",
              "         1.26797195e+02, -1.94170159e+01, -6.16451342e+01, -1.00573544e+02,\n",
              "         5.53269236e+01, -1.13977889e+02, -1.20668952e+02, -4.10033533e+01,\n",
              "         1.93359236e+01, -8.33637331e+01, -1.12059533e+02, -8.25593895e+01,\n",
              "         1.62928017e+02,  6.52366217e+01, -2.27313972e+02,  2.36210943e+01,\n",
              "         6.37784088e+01, -7.88244509e+01, -7.56402104e+00,  6.13010734e-01,\n",
              "        -3.63529545e+00, -1.38541709e+02,  2.78577077e+01,  3.63657284e+01,\n",
              "         8.48711063e+01,  2.12988667e+01, -5.46537760e+01,  8.33274018e+01,\n",
              "        -1.72486438e+02, -7.93426033e+00, -7.44169633e+01, -2.87813091e+01,\n",
              "        -6.44510912e+00,  2.12273173e+00,  2.32935544e+00,  1.05194084e+02,\n",
              "        -3.79526683e+01, -5.73991156e+01,  1.55465577e+02,  1.23034646e+02,\n",
              "         2.42548332e+02,  5.68040766e+01, -2.41939948e+01,  4.34050342e+01,\n",
              "         1.11492793e+01,  1.54727891e+01, -1.01363158e+00, -2.67481387e+01,\n",
              "        -5.04025385e+01,  6.59664755e+01,  6.27144274e+01, -1.42624267e+02,\n",
              "        -6.02778342e+01, -4.19319983e+01,  6.46795774e+01,  1.92643420e+02,\n",
              "        -2.63345961e+00, -1.04025968e+02, -2.61025984e+02, -8.84772284e+01,\n",
              "        -4.06520575e+01,  3.51804487e+01,  9.02302386e+01, -4.63205226e+01,\n",
              "        -1.49723268e+02, -1.12700513e+01,  1.86843230e+02, -4.81354243e+01,\n",
              "         7.64046251e+01,  2.99280359e+01,  1.83673284e+02, -8.13474507e+01,\n",
              "         1.29158499e+02, -6.26700113e+01, -5.83251685e+01,  6.10773820e+01,\n",
              "         9.80870954e+01,  7.44815241e+01,  4.96719229e+01, -1.17832066e+02,\n",
              "         3.90462664e+00, -5.74875075e+01,  4.06001471e+01, -7.37328152e+01,\n",
              "        -7.65652066e+01, -1.12682658e+02, -1.15889636e+02, -5.19324723e+00,\n",
              "        -3.26278695e+01,  1.56670157e+02, -9.27239033e+01,  6.48705982e+01,\n",
              "         9.08028109e+01, -9.25654826e+01, -5.49474455e+00, -4.02669576e+01,\n",
              "         3.89694142e+01,  1.36969898e+02, -6.69190386e+00,  5.08774271e+01,\n",
              "         3.84477226e+01, -1.02813510e+02, -7.63088142e+01, -4.96375227e+01,\n",
              "        -4.58536539e+01, -8.24288235e+01, -1.84770921e+01,  1.40477893e+02,\n",
              "        -5.48175417e+01, -4.53224368e+01, -5.89806353e+01,  8.80530593e+01,\n",
              "        -1.90458992e+01, -1.32411946e+02, -1.05296446e+02, -6.82443627e+01,\n",
              "        -2.85878896e+01,  2.15019745e+01,  4.67381430e+01, -4.92576372e+01,\n",
              "         8.91436842e-01,  3.99966838e+01, -2.65801742e+01, -1.23298038e+00,\n",
              "        -1.09860555e+02,  1.02412102e+02, -6.06778497e+00, -2.69204167e+01,\n",
              "        -4.02738665e+01, -6.48855000e+01,  2.80686898e+00, -6.85078799e+00,\n",
              "        -2.30915158e+01, -1.18681501e+02, -9.12061469e+00,  9.95855229e+01,\n",
              "        -1.91517916e+00,  2.87512689e+01,  5.55112011e+01, -1.63092949e+02,\n",
              "         4.23447136e+01,  2.91609944e+01,  2.27493044e+01,  9.71245322e+00,\n",
              "         1.61972545e+02,  1.52836241e+00,  8.25630465e+01,  4.64672169e+01,\n",
              "         4.16521527e+01, -2.31917083e+01, -6.71330835e+01, -1.04022173e+02,\n",
              "         3.56184505e+01,  1.13054720e+02,  7.83825316e+01,  3.56327369e+01,\n",
              "         1.09017662e+02, -1.85866482e+02,  2.57415087e+01, -1.92316194e+01,\n",
              "         7.81907520e+01, -4.31135625e+01, -2.53988344e+01,  9.76907903e+00,\n",
              "        -3.40706744e+01,  4.60493706e+01,  3.80989283e+00,  6.53747320e+01,\n",
              "         1.30690616e+02,  8.99745496e+01,  9.48065031e+01,  1.22084011e+02,\n",
              "         7.70105030e+01, -5.96343771e+00, -2.67821506e+01, -1.13365906e+02,\n",
              "         8.19719920e+01, -2.51323591e+00,  1.46039496e+01, -1.83789133e+02,\n",
              "        -7.27587598e+00, -1.34819039e+02,  2.24356844e+01,  1.85321761e+02,\n",
              "        -1.92308995e+01, -1.50702825e+02, -1.81094398e+01,  6.89114159e+01,\n",
              "         5.28371429e+01, -1.84633713e+02, -1.80976146e+02, -2.72958441e+02,\n",
              "         9.62702660e+01, -8.61528395e+01,  7.21042455e+01,  2.14472824e+01,\n",
              "        -1.05530026e+02,  1.46996963e+02, -1.00939676e+02,  4.17269853e+01,\n",
              "         3.07478414e+01, -2.41927805e+01, -1.37861537e+02, -8.10733697e+01,\n",
              "         1.06905678e+02,  1.28308981e+02,  9.71088589e+01,  4.55386216e+01,\n",
              "        -9.75507186e+01, -6.08454431e+01, -1.01267091e+02, -1.28771111e+00,\n",
              "        -1.08417396e+02, -4.09575296e+01, -1.56523326e+01,  2.01747245e+01,\n",
              "         2.75025354e+00, -4.98558831e+01, -9.64707547e+01,  4.54118775e+01,\n",
              "        -1.80915958e+02, -2.95452341e+01, -1.17335320e+02,  8.05968121e+01,\n",
              "        -1.29305292e+02, -3.08560293e+01, -3.66369694e+00, -1.11341242e+02,\n",
              "        -1.70091373e+02,  9.63095544e+01, -1.19723753e+02,  5.84204325e+01,\n",
              "         2.06164044e+02,  6.02379688e+01,  1.13848480e+02,  2.04353725e+02,\n",
              "         1.44917062e+01, -2.09960733e+02,  1.73973099e+02, -2.76843277e+02,\n",
              "        -2.27585533e+01, -5.46402197e+01,  2.57704448e+01, -5.59080635e+01,\n",
              "        -3.22248993e+01, -5.70258222e+01,  4.10118287e+01, -8.42111657e+01,\n",
              "         2.09966041e+01,  3.45912825e+01,  1.56347054e+02,  4.89908971e+01,\n",
              "         2.37730886e+01,  1.08046973e+01, -3.05467954e+00, -9.99292395e+00,\n",
              "        -3.94930174e+01,  7.84728920e+01, -3.31914349e+01, -2.94868082e+01,\n",
              "         1.77195746e+01,  7.30332614e+01,  5.96119926e+01, -3.25941791e+01,\n",
              "        -6.28172774e+01,  4.68939774e+01,  2.82576918e+01, -8.72310353e+01,\n",
              "        -2.24536044e+01, -8.39966096e+01, -1.45305848e+02, -2.93171553e+01,\n",
              "         4.44471993e+01,  9.21433778e+01,  1.65492725e+02, -7.24197452e+00,\n",
              "         1.11662978e+02, -2.47056670e+01,  7.85140285e+01, -2.45115818e+01,\n",
              "        -3.50003769e+01, -1.67560620e+02, -6.01022968e+01, -6.89553001e+01,\n",
              "        -9.58310676e+01, -1.61452063e+02,  1.74516456e+01, -6.81417620e+01,\n",
              "        -1.59227201e+02, -1.20056233e+02,  3.48082809e+01,  7.61802721e+01,\n",
              "         1.39045433e+02,  1.39303202e+01, -1.25159768e+01, -2.64270660e+01,\n",
              "        -1.30699556e+02, -7.87190930e+01, -1.36870431e+02, -2.17472738e+02,\n",
              "         4.57024529e+01,  3.24526980e+02, -8.37659787e+01, -6.84992042e+01,\n",
              "        -1.40089478e+01, -1.39983298e+02,  2.60815924e+01,  1.24692950e+02,\n",
              "         7.82475840e-03, -4.21902475e+00,  1.54693241e+02,  8.80049325e+00,\n",
              "         6.84869726e+01, -7.59692524e+01,  7.19975868e+01,  1.21603840e+01,\n",
              "         4.71133936e+01, -9.93432937e+01, -1.50210045e+01,  3.60662742e+00,\n",
              "         7.67179236e+01, -2.34718917e+01,  6.82308573e+01,  3.90479528e+01,\n",
              "         3.26275481e+01,  7.95306332e+01, -1.88713973e+02, -1.41118225e+02,\n",
              "         7.43866902e+01,  2.47117445e+01, -7.31088627e+01,  2.51968576e+01,\n",
              "        -1.60133832e+01,  2.13168023e+01, -4.81133647e+01,  5.14572662e+01,\n",
              "         3.09521996e+01,  1.07192307e+02, -3.29771725e+01,  4.91915390e+01,\n",
              "        -5.75043725e+01,  1.20494155e+02,  2.34376369e+01, -7.73573602e+01,\n",
              "         1.53806197e+01, -4.38674422e+01,  1.76277202e+02, -1.18820944e+02,\n",
              "         9.97742392e+01, -1.42088729e+01,  5.79291316e+01, -2.19734207e+01,\n",
              "         6.10640950e+01,  4.52498780e+01, -4.93854104e+01,  2.55869401e+01,\n",
              "         5.91158176e+01,  1.06956141e+02, -1.15347764e+01, -3.32444405e+01,\n",
              "        -7.15386416e+01,  1.06008226e+02,  1.15013634e+02,  4.98591810e+01,\n",
              "         8.23456995e+01, -6.43468518e+01, -2.11996546e+01, -2.28156375e+02,\n",
              "         2.33986883e+00,  1.82211930e+02,  5.52515850e+01, -5.48297280e+01,\n",
              "         1.12261878e+02,  1.63316483e+01, -1.45361926e+01, -1.91766396e+01,\n",
              "         8.16038091e+01, -3.03565020e+01, -8.00470891e+01, -1.42628005e+01,\n",
              "         5.49137140e+01,  1.12668475e+02,  2.78637371e+01, -1.13385977e+01,\n",
              "         4.81088347e+01, -1.53474263e+02, -5.94558325e+00, -1.25315575e+02,\n",
              "         7.79037189e+01, -8.10073501e+01, -1.35761824e+02, -1.58034260e+00,\n",
              "        -8.40332429e+01, -1.05785588e+02,  4.10050710e+01, -3.17567355e+01,\n",
              "        -1.65131736e+01,  1.56151735e+01, -2.23172923e+02, -6.17383250e+01,\n",
              "        -6.95182192e+01, -2.55111977e-01, -8.82378558e+01,  3.74901698e+01,\n",
              "         6.28117323e+01,  3.47008424e+01,  4.73753129e+01,  1.82531234e+01,\n",
              "         1.71572431e+01,  3.55781369e+01,  2.84106472e+01, -1.07120358e+02,\n",
              "         6.04741330e+01, -6.86185529e+01,  6.82751195e+01, -4.80875350e+01,\n",
              "        -9.34451943e+01,  1.17154945e+02,  7.03167464e+00, -2.30785149e+01,\n",
              "         1.70806902e+02,  2.48159075e+01, -3.20748471e+00, -2.67416518e+01,\n",
              "        -2.91923613e+00,  9.40769951e+01, -4.73057721e+01,  4.07490829e+01,\n",
              "         8.88481492e+01, -2.80892126e+02, -2.86502213e+01, -1.09919859e+02,\n",
              "        -8.60462018e+00, -1.56602879e+01, -3.85155763e+01,  6.71463126e+01,\n",
              "        -1.20396366e+02,  2.32898019e+01,  1.35862207e+01,  8.60574083e+01,\n",
              "         8.94863622e+01, -1.97431038e+00, -1.42231415e+01, -4.30123801e+01,\n",
              "        -1.46185051e+02,  9.96759147e+00, -1.81599126e+02, -8.53484399e+01,\n",
              "        -8.49881136e+01,  6.40943130e+01,  1.42241510e+02, -3.54311882e+01,\n",
              "        -8.05682643e+01, -2.90908989e+01, -6.85825067e+00,  2.88212293e+01,\n",
              "         8.05242880e+01,  1.53762806e+02, -3.37428562e+01,  7.18084308e+01,\n",
              "         1.02889777e+02, -1.19661145e+02, -1.72326875e+02,  2.44089266e+02,\n",
              "        -9.07477888e+01, -2.83284648e+01, -1.18353030e+02, -4.90705931e+01,\n",
              "        -1.81161417e+02,  4.54374600e+01, -5.59787188e+01, -7.56809236e+00,\n",
              "        -7.51981237e+00,  1.83846084e+01,  2.75413743e+01, -8.85995196e+01,\n",
              "         1.06700052e+02,  1.39160244e+02, -9.95982962e+01, -1.74547253e+01,\n",
              "        -1.57375916e+02, -2.76479817e+01,  3.45898727e+01, -8.73988727e+01,\n",
              "         7.65474634e+01,  1.33104348e+02,  7.91587561e+01, -1.31761099e+02,\n",
              "        -5.76272792e+01, -2.31563755e+01, -3.88065649e+00, -3.46905532e+01,\n",
              "         1.96245506e+02,  2.69770128e+01, -3.15126904e-01, -3.87322774e+01,\n",
              "        -4.78237487e+01, -2.59544561e+01, -4.70596657e+01, -2.99216034e+01,\n",
              "        -8.54653900e+01, -8.12857148e+01,  3.23106475e+01,  2.92093436e+01,\n",
              "         5.88833981e+01,  1.43456765e+02, -1.20084236e+02, -1.72539756e+02,\n",
              "         6.46684708e+01, -5.41508890e+01, -1.12523096e+02,  2.43239161e+01,\n",
              "        -5.00189524e+01, -7.18233301e+01,  6.09457937e+01, -1.07598698e+01,\n",
              "         1.45746101e+02,  7.16834835e+01,  5.34830116e+00,  1.39162621e+01,\n",
              "         8.21005364e+00,  8.20674994e+01,  1.55659063e+02,  6.22351757e+01,\n",
              "        -8.87323502e+01, -1.33223394e+02, -6.16909779e+01,  5.18637615e+01,\n",
              "         1.14072190e+02, -5.14467175e+01,  1.02432514e+00, -1.27705485e+01,\n",
              "         2.36883907e+01, -7.03504376e+00,  5.76174429e+01, -9.75058551e+01,\n",
              "         5.70896520e+01,  6.77017990e+01, -3.40948542e+01, -3.61727004e+01,\n",
              "         3.25984330e+01, -1.70224837e+02, -1.21617912e+01,  3.06350353e+01,\n",
              "        -4.72940809e+01, -1.16038092e+01,  7.31033141e+00,  5.57897873e+01,\n",
              "        -2.03508570e+01, -5.44666083e+01,  6.80311757e+01,  1.76611354e+02,\n",
              "        -2.24277061e+01, -4.18014296e+01,  5.44341052e+01, -6.57449517e+01,\n",
              "        -1.48469466e+02,  2.05183376e+02, -1.14086796e+02,  1.54710874e+02,\n",
              "         3.52782285e+01,  4.79747856e+01, -9.59423681e+01, -1.26556594e+01,\n",
              "         5.73153341e+01,  7.95651704e+01, -6.76573246e+01,  7.15316933e+01,\n",
              "         1.24114121e+01,  1.34870713e+02,  1.43783014e+02,  1.26486405e+00,\n",
              "        -5.24625134e+01,  8.41132679e+01, -6.09924291e+01,  9.85593207e+01,\n",
              "         2.08555701e+02, -5.64521113e+01, -2.28445854e+01,  3.73556606e+01,\n",
              "        -2.23507566e+01, -9.00654471e+01,  4.39925836e+01, -4.80500357e+01,\n",
              "         5.70702300e+01, -6.93522578e+01, -1.29185817e+02,  8.92586988e+01,\n",
              "         1.61003947e+02, -3.92465028e+01, -8.48609255e+01,  4.85076172e+01,\n",
              "        -1.32999311e+01, -1.28280041e+00,  1.22702254e+02, -3.52058414e+01,\n",
              "        -1.02637612e+01,  5.87630589e+01,  9.67854977e+01, -3.27935331e+01,\n",
              "         1.26527034e+02,  1.34028441e+02,  4.41918569e+01, -5.58935989e+01,\n",
              "         6.64336802e+01, -1.47421676e+02, -3.40946427e+01, -1.07770705e+02,\n",
              "        -1.46814000e+02, -2.83718307e+01,  1.62198510e+01, -1.24220761e+01,\n",
              "         6.54239677e+01, -3.89185667e+01, -3.14512778e+00,  1.59811221e+02,\n",
              "         1.39756932e+02,  4.77209141e+00,  1.24282499e+00, -4.32423446e+01,\n",
              "        -7.31831817e+01,  2.04595100e+01,  1.02387723e+02, -1.34464225e+02,\n",
              "        -6.35179090e+01, -1.14569368e+02, -1.19314123e+02,  6.66453562e+01,\n",
              "         3.12608944e+01, -9.79765493e+01,  1.35570455e+02,  1.01344345e+02,\n",
              "        -5.20904461e+01,  7.51944198e+01,  7.34760597e+01,  1.13641748e+02,\n",
              "         2.40061269e+01,  2.34097166e+02,  8.31246936e+01, -3.43058990e+01,\n",
              "        -1.08032234e+02, -1.60324417e+02,  1.98476991e+02, -9.62030573e+01,\n",
              "        -8.68506107e+01,  6.68097718e+00, -4.49133291e+01,  1.59243134e+02,\n",
              "        -8.26818310e+01,  3.40522270e+01, -1.70317530e+02,  1.18334165e+02,\n",
              "        -5.80754300e+01,  6.35333474e+00, -1.26310577e+02,  4.14361364e+01,\n",
              "        -1.20737095e+02, -4.04273986e+01,  4.34362978e+01, -2.88889410e+01,\n",
              "        -2.17432017e+01,  1.29972271e+01,  3.21141673e+01,  1.34002288e+01,\n",
              "        -1.22308780e+02, -4.71479256e+00, -3.74985938e+01, -3.73074245e+01,\n",
              "        -7.11538167e+01,  4.07285130e+01, -2.63881146e+01,  3.61673161e+01,\n",
              "         3.52855328e+01, -2.77895009e+01, -3.23213754e+01, -6.84246892e+01,\n",
              "        -1.31111751e+01,  1.41659624e+02,  2.74930364e+01,  1.92340866e+01]),\n",
              " array([62.6735955, 68.0472182]))"
            ]
          },
          "metadata": {},
          "execution_count": 308
        }
      ]
    },
    {
      "cell_type": "code",
      "source": [
        "def calc_mse(y, y_pred):\n",
        "    err = np.mean((y - y_pred)**2)\n",
        "    return err"
      ],
      "metadata": {
        "id": "OobWlmXURlwd"
      },
      "execution_count": 309,
      "outputs": []
    },
    {
      "cell_type": "code",
      "source": [
        "# классический  GD\n",
        "def gradient_descent(X, y, iterations, eta=1e-4):\n",
        "    W = np.random.randn(X.shape[1])\n",
        "    n = X.shape[0]\n",
        "    \n",
        "    for i in range(0, iterations):\n",
        "        y_pred = np.dot(X, W)\n",
        "        err_gd = {}\n",
        "        err_gd[iter_num] = calc_mse(y, y_pred)\n",
        "        dQ = 2/n * X.T @ (y_pred - y) # градиент функции ошибки\n",
        "        W -= (eta * dQ)\n",
        "        if i % (iterations / 10) == 0:\n",
        "            print(f'Iter: {i}, weights: {W}, error {err_gd}')\n",
        "    print(f'Final MSE: {calc_mse(y, np.dot(X, W))}')\n",
        "    return W"
      ],
      "metadata": {
        "id": "_0OCNHZfR_6B"
      },
      "execution_count": 310,
      "outputs": []
    },
    {
      "cell_type": "code",
      "source": [
        "%%time\n",
        "gradient_descent(X, y, 60000, eta=1e-4)"
      ],
      "metadata": {
        "colab": {
          "base_uri": "https://localhost:8080/"
        },
        "id": "608t8L-VTHNu",
        "outputId": "451925c9-8858-4ca5-cf96-70cbdb64f0c5"
      },
      "execution_count": 311,
      "outputs": [
        {
          "output_type": "stream",
          "name": "stdout",
          "text": [
            "Iter: 0, weights: [1.34219154 0.34157612], error {0: 7991.892684532534}\n",
            "Iter: 6000, weights: [42.82100435 46.80716007], error {0: 830.6720364442756}\n",
            "Iter: 12000, weights: [56.09086087 61.49095769], error {0: 107.6392917173008}\n",
            "Iter: 18000, weights: [60.33444528 66.13276229], error {0: 34.62791501592121}\n",
            "Iter: 24000, weights: [61.69100298 67.6005728 ], error {0: 27.254344608660954}\n",
            "Iter: 30000, weights: [62.12450751 68.06485418], error {0: 26.5095891789651}\n",
            "Iter: 36000, weights: [62.26299458 68.21175166], error {0: 26.434358913604417}\n",
            "Iter: 42000, weights: [62.3072223  68.25824205], error {0: 26.426758981609968}\n",
            "Iter: 48000, weights: [62.32134307 68.27295914], error {0: 26.425991159367733}\n",
            "Iter: 54000, weights: [62.32585029 68.27761914], error {0: 26.42591358081031}\n",
            "Final MSE: 26.4259057420149\n",
            "CPU times: user 1.78 s, sys: 10.7 ms, total: 1.79 s\n",
            "Wall time: 1.79 s\n"
          ]
        },
        {
          "output_type": "execute_result",
          "data": {
            "text/plain": [
              "array([62.32728848, 68.27909487])"
            ]
          },
          "metadata": {},
          "execution_count": 311
        }
      ]
    },
    {
      "cell_type": "code",
      "source": [
        "# стохастический градиентный спуск\n",
        "def stohastic_gradient_descent(X, y, iterations, batch_size, eta=1e-4):\n",
        "    W = np.random.randn(X.shape[1])\n",
        "    n = X.shape[0]\n",
        "    \n",
        "    n_batch = n // batch_size    \n",
        "    if n % batch_size != 0:\n",
        "        n_batch += 1\n",
        "    print(f'amount of batches is {n_batch}')\n",
        "        \n",
        "    for i in range(0, iterations):\n",
        "        \n",
        "        for b in range(n_batch):\n",
        "            start = batch_size * b\n",
        "            end = batch_size * (b + 1)\n",
        "            \n",
        "#             print(b, start, end)\n",
        "            \n",
        "            X_tmp = X[start : end, ]\n",
        "            y_tmp = y[start : end]\n",
        "            err_sgd = {}\n",
        "            err_sgd[iter_num]= calc_mse(y, np.dot(X, W))\n",
        "            \n",
        "            y_pred_tmp = np.dot(X_tmp, W)\n",
        "            dQ = 2/len(y_tmp) * X_tmp.T @ (y_pred_tmp - y_tmp) # градиент функции ошибки\n",
        "            W -= (eta * dQ)\n",
        "        \n",
        "        if i % (iterations / 10) == 0:\n",
        "            print(f'Iter: {i}, weights: {W}, error {err_sgd}')\n",
        "    \n",
        "    print(f'Final MSE: {calc_mse(y, np.dot(X, W))}')\n",
        "    return W"
      ],
      "metadata": {
        "id": "UINq2bZOSD2P"
      },
      "execution_count": 312,
      "outputs": []
    },
    {
      "cell_type": "code",
      "source": [
        "stohastic_gradient_descent(X, y, 800, batch_size=4, eta=1e-4)"
      ],
      "metadata": {
        "colab": {
          "base_uri": "https://localhost:8080/"
        },
        "id": "54dG31mpW76d",
        "outputId": "f4623359-11dd-4a1d-99d5-2132ceb85a8b"
      },
      "execution_count": 313,
      "outputs": [
        {
          "output_type": "stream",
          "name": "stdout",
          "text": [
            "amount of batches is 250\n",
            "Iter: 0, weights: [4.51933555 2.28779981], error {0: 7382.14249449362}\n",
            "Iter: 80, weights: [61.03148852 66.86057428], error {0: 29.955587799209226}\n",
            "Iter: 160, weights: [62.29734102 68.24756071], error {0: 26.427774119497187}\n",
            "Iter: 240, weights: [62.32557664 68.27745649], error {0: 26.425914154509666}\n",
            "Iter: 320, weights: [62.32620436 68.27810279], error {0: 26.425909568919067}\n",
            "Iter: 400, weights: [62.32621828 68.27811679], error {0: 26.42590948571866}\n",
            "Iter: 480, weights: [62.32621859 68.2781171 ], error {0: 26.42590948390212}\n",
            "Iter: 560, weights: [62.3262186 68.2781171], error {0: 26.425909483862284}\n",
            "Iter: 640, weights: [62.3262186 68.2781171], error {0: 26.425909483861403}\n",
            "Iter: 720, weights: [62.3262186 68.2781171], error {0: 26.425909483861393}\n",
            "Final MSE: 26.425910402649205\n"
          ]
        },
        {
          "output_type": "execute_result",
          "data": {
            "text/plain": [
              "array([62.3262186, 68.2781171])"
            ]
          },
          "metadata": {},
          "execution_count": 313
        }
      ]
    },
    {
      "cell_type": "code",
      "source": [
        "plt.figure(figsize=(13, 6))\n",
        "\n",
        "plt.plot(list(err_gd.keys()), list(err_gd.values()))\n",
        "plt.plot(list(err_sgd.keys()), list(err_sgd.values()))\n",
        "\n",
        "plt.show()"
      ],
      "metadata": {
        "colab": {
          "base_uri": "https://localhost:8080/",
          "height": 252
        },
        "id": "PgONvAmnZKnp",
        "outputId": "a84d2bf9-606e-4bee-8dd3-dd8c494c433e"
      },
      "execution_count": 314,
      "outputs": [
        {
          "output_type": "error",
          "ename": "NameError",
          "evalue": "ignored",
          "traceback": [
            "\u001b[0;31m---------------------------------------------------------------------------\u001b[0m",
            "\u001b[0;31mNameError\u001b[0m                                 Traceback (most recent call last)",
            "\u001b[0;32m<ipython-input-314-251456fc586c>\u001b[0m in \u001b[0;36m<module>\u001b[0;34m()\u001b[0m\n\u001b[1;32m      1\u001b[0m \u001b[0mplt\u001b[0m\u001b[0;34m.\u001b[0m\u001b[0mfigure\u001b[0m\u001b[0;34m(\u001b[0m\u001b[0mfigsize\u001b[0m\u001b[0;34m=\u001b[0m\u001b[0;34m(\u001b[0m\u001b[0;36m13\u001b[0m\u001b[0;34m,\u001b[0m \u001b[0;36m6\u001b[0m\u001b[0;34m)\u001b[0m\u001b[0;34m)\u001b[0m\u001b[0;34m\u001b[0m\u001b[0;34m\u001b[0m\u001b[0m\n\u001b[1;32m      2\u001b[0m \u001b[0;34m\u001b[0m\u001b[0m\n\u001b[0;32m----> 3\u001b[0;31m \u001b[0mplt\u001b[0m\u001b[0;34m.\u001b[0m\u001b[0mplot\u001b[0m\u001b[0;34m(\u001b[0m\u001b[0mlist\u001b[0m\u001b[0;34m(\u001b[0m\u001b[0merr_gd\u001b[0m\u001b[0;34m.\u001b[0m\u001b[0mkeys\u001b[0m\u001b[0;34m(\u001b[0m\u001b[0;34m)\u001b[0m\u001b[0;34m)\u001b[0m\u001b[0;34m,\u001b[0m \u001b[0mlist\u001b[0m\u001b[0;34m(\u001b[0m\u001b[0merr_gd\u001b[0m\u001b[0;34m.\u001b[0m\u001b[0mvalues\u001b[0m\u001b[0;34m(\u001b[0m\u001b[0;34m)\u001b[0m\u001b[0;34m)\u001b[0m\u001b[0;34m)\u001b[0m\u001b[0;34m\u001b[0m\u001b[0;34m\u001b[0m\u001b[0m\n\u001b[0m\u001b[1;32m      4\u001b[0m \u001b[0mplt\u001b[0m\u001b[0;34m.\u001b[0m\u001b[0mplot\u001b[0m\u001b[0;34m(\u001b[0m\u001b[0mlist\u001b[0m\u001b[0;34m(\u001b[0m\u001b[0merr_sgd\u001b[0m\u001b[0;34m.\u001b[0m\u001b[0mkeys\u001b[0m\u001b[0;34m(\u001b[0m\u001b[0;34m)\u001b[0m\u001b[0;34m)\u001b[0m\u001b[0;34m,\u001b[0m \u001b[0mlist\u001b[0m\u001b[0;34m(\u001b[0m\u001b[0merr_sgd\u001b[0m\u001b[0;34m.\u001b[0m\u001b[0mvalues\u001b[0m\u001b[0;34m(\u001b[0m\u001b[0;34m)\u001b[0m\u001b[0;34m)\u001b[0m\u001b[0;34m)\u001b[0m\u001b[0;34m\u001b[0m\u001b[0;34m\u001b[0m\u001b[0m\n\u001b[1;32m      5\u001b[0m \u001b[0;34m\u001b[0m\u001b[0m\n",
            "\u001b[0;31mNameError\u001b[0m: name 'err_gd' is not defined"
          ]
        },
        {
          "output_type": "display_data",
          "data": {
            "text/plain": [
              "<Figure size 936x432 with 0 Axes>"
            ]
          },
          "metadata": {}
        }
      ]
    }
  ]
}